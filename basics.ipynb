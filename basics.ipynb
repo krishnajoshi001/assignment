{
 "cells": [
  {
   "cell_type": "code",
   "execution_count": 1,
   "id": "0d729938-4103-474b-a78e-4d879904aaf0",
   "metadata": {},
   "outputs": [],
   "source": [
    "class pwskills :\n",
    "    def wel():\n",
    "        print(\"welcome to my vlog\")"
   ]
  },
  {
   "cell_type": "code",
   "execution_count": 3,
   "id": "d3e9c699-5faf-4d44-89d4-35d9d6c6aa70",
   "metadata": {},
   "outputs": [],
   "source": [
    "krishna = pwskills()"
   ]
  },
  {
   "cell_type": "code",
   "execution_count": 4,
   "id": "7bb27f7b-49ff-4a2f-92f8-9d33762b1e7f",
   "metadata": {},
   "outputs": [
    {
     "ename": "TypeError",
     "evalue": "pwskills.wel() takes 0 positional arguments but 1 was given",
     "output_type": "error",
     "traceback": [
      "\u001b[31m---------------------------------------------------------------------------\u001b[39m",
      "\u001b[31mTypeError\u001b[39m                                 Traceback (most recent call last)",
      "\u001b[36mCell\u001b[39m\u001b[36m \u001b[39m\u001b[32mIn[4]\u001b[39m\u001b[32m, line 1\u001b[39m\n\u001b[32m----> \u001b[39m\u001b[32m1\u001b[39m \u001b[43mkrishna\u001b[49m\u001b[43m.\u001b[49m\u001b[43mwel\u001b[49m\u001b[43m(\u001b[49m\u001b[43m)\u001b[49m\n",
      "\u001b[31mTypeError\u001b[39m: pwskills.wel() takes 0 positional arguments but 1 was given"
     ]
    }
   ],
   "source": [
    "krishna.wel()"
   ]
  },
  {
   "cell_type": "code",
   "execution_count": 5,
   "id": "e4bde267-bac1-447f-b12b-14aecbaa30e9",
   "metadata": {},
   "outputs": [],
   "source": [
    "#self parameter is used to define a function inside class or bind it with class\n",
    "class pwskill :\n",
    "    def wel(self):\n",
    "        print(\"welcome to my vlog\")"
   ]
  },
  {
   "cell_type": "code",
   "execution_count": 6,
   "id": "f81dbafa-4e48-4805-8030-4d65a4ca70eb",
   "metadata": {},
   "outputs": [],
   "source": [
    "k=pwskill()"
   ]
  },
  {
   "cell_type": "code",
   "execution_count": 7,
   "id": "6c36c669-7840-4f72-abcb-ec14f4bba3e4",
   "metadata": {},
   "outputs": [
    {
     "name": "stdout",
     "output_type": "stream",
     "text": [
      "welcome to my vlog\n"
     ]
    }
   ],
   "source": [
    "k.wel()"
   ]
  },
  {
   "cell_type": "code",
   "execution_count": 8,
   "id": "32bf0cee-89ec-46a5-aa6b-d1fcef435321",
   "metadata": {},
   "outputs": [],
   "source": [
    "#if we want to pass data to class we have to call an inbuit function \"__intit__\" also called as constructor "
   ]
  },
  {
   "cell_type": "code",
   "execution_count": 10,
   "id": "a1fb8ea9-3f7a-45cb-b774-a35c774216aa",
   "metadata": {},
   "outputs": [],
   "source": [
    "class myinfo():\n",
    "    def __init__(self,phn_no,email,student_id):\n",
    "        self.phn_no=phn_no\n",
    "        self.email=email\n",
    "        self.student_id=student_id\n",
    "    def return_det(self):\n",
    "        return self.phn_no,self.email,self.student_id"
   ]
  },
  {
   "cell_type": "code",
   "execution_count": 11,
   "id": "10aa6eb2-abc3-442c-aa5a-cbf69fac0f1c",
   "metadata": {},
   "outputs": [
    {
     "ename": "TypeError",
     "evalue": "myinfo.__init__() missing 3 required positional arguments: 'phn_no', 'email', and 'student_id'",
     "output_type": "error",
     "traceback": [
      "\u001b[31m---------------------------------------------------------------------------\u001b[39m",
      "\u001b[31mTypeError\u001b[39m                                 Traceback (most recent call last)",
      "\u001b[36mCell\u001b[39m\u001b[36m \u001b[39m\u001b[32mIn[11]\u001b[39m\u001b[32m, line 1\u001b[39m\n\u001b[32m----> \u001b[39m\u001b[32m1\u001b[39m rohan=\u001b[43mmyinfo\u001b[49m\u001b[43m(\u001b[49m\u001b[43m)\u001b[49m\n",
      "\u001b[31mTypeError\u001b[39m: myinfo.__init__() missing 3 required positional arguments: 'phn_no', 'email', and 'student_id'"
     ]
    }
   ],
   "source": [
    "rohan=myinfo()"
   ]
  },
  {
   "cell_type": "code",
   "execution_count": 13,
   "id": "4c2c27cd-67ef-4847-8218-c4f8a3abf8e0",
   "metadata": {},
   "outputs": [],
   "source": [
    "krishna=myinfo(8949485644,'knj@email','B230419')"
   ]
  },
  {
   "cell_type": "code",
   "execution_count": 14,
   "id": "d263977f-0ed1-4cef-b2b1-b486e2f1d264",
   "metadata": {},
   "outputs": [
    {
     "data": {
      "text/plain": [
       "(8949485644, 'knj@email', 'B230419')"
      ]
     },
     "execution_count": 14,
     "metadata": {},
     "output_type": "execute_result"
    }
   ],
   "source": [
    "krishna.return_det()"
   ]
  },
  {
   "cell_type": "code",
   "execution_count": 21,
   "id": "de17eeaf-7fba-431e-a055-c37d56ef5f4d",
   "metadata": {},
   "outputs": [],
   "source": [
    "class myinfo1():\n",
    "    def __init__(love,phn_no,email,student_id):\n",
    "        love.phn_no1=phn_no\n",
    "        love.email1=email\n",
    "        love.student_id1=student_id\n",
    "    def return_det(self):\n",
    "        return love.phn_no1,love.email1,love.student_id1"
   ]
  },
  {
   "cell_type": "code",
   "execution_count": 22,
   "id": "d3bbc1c3-dc56-49e0-8403-44a13255be71",
   "metadata": {},
   "outputs": [],
   "source": [
    "krishna=myinfo1(8949485644,'knj@gmail.com','b230419')"
   ]
  },
  {
   "cell_type": "code",
   "execution_count": 23,
   "id": "1e8b35d6-3635-403b-b8e7-3393462a498e",
   "metadata": {},
   "outputs": [
    {
     "ename": "AttributeError",
     "evalue": "'myinfo1' object has no attribute 'phn_no'",
     "output_type": "error",
     "traceback": [
      "\u001b[31m---------------------------------------------------------------------------\u001b[39m",
      "\u001b[31mAttributeError\u001b[39m                            Traceback (most recent call last)",
      "\u001b[36mCell\u001b[39m\u001b[36m \u001b[39m\u001b[32mIn[23]\u001b[39m\u001b[32m, line 1\u001b[39m\n\u001b[32m----> \u001b[39m\u001b[32m1\u001b[39m \u001b[43mkrishna\u001b[49m\u001b[43m.\u001b[49m\u001b[43mphn_no\u001b[49m()\n",
      "\u001b[31mAttributeError\u001b[39m: 'myinfo1' object has no attribute 'phn_no'"
     ]
    }
   ],
   "source": [
    "krishna.phn_no()"
   ]
  },
  {
   "cell_type": "code",
   "execution_count": null,
   "id": "d2ad6f97-8358-4ad4-aa18-5904553ff72c",
   "metadata": {},
   "outputs": [],
   "source": []
  },
  {
   "cell_type": "code",
   "execution_count": 24,
   "id": "e754ca49-89fd-4163-9960-2c8ad73ff946",
   "metadata": {},
   "outputs": [
    {
     "data": {
      "text/plain": [
       "8949485644"
      ]
     },
     "execution_count": 24,
     "metadata": {},
     "output_type": "execute_result"
    }
   ],
   "source": [
    "krishna.phn_no1"
   ]
  },
  {
   "cell_type": "code",
   "execution_count": 25,
   "id": "d7bb34d9-b045-4ee0-9258-74690e6437a0",
   "metadata": {},
   "outputs": [],
   "source": [
    "#self. is not a reserved keyword we can use any bus vo work karega pointer ki trh"
   ]
  },
  {
   "cell_type": "code",
   "execution_count": null,
   "id": "470fe40e-7167-4900-9b3c-071a040291a3",
   "metadata": {},
   "outputs": [],
   "source": []
  }
 ],
 "metadata": {
  "kernelspec": {
   "display_name": "Python 3 (ipykernel)",
   "language": "python",
   "name": "python3"
  },
  "language_info": {
   "codemirror_mode": {
    "name": "ipython",
    "version": 3
   },
   "file_extension": ".py",
   "mimetype": "text/x-python",
   "name": "python",
   "nbconvert_exporter": "python",
   "pygments_lexer": "ipython3",
   "version": "3.13.3"
  }
 },
 "nbformat": 4,
 "nbformat_minor": 5
}
