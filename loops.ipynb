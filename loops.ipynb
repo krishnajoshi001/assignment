{
 "cells": [
  {
   "cell_type": "code",
   "execution_count": 1,
   "id": "478e1e7c-f2fc-4bb6-89dc-33c2d84335f6",
   "metadata": {},
   "outputs": [
    {
     "name": "stdout",
     "output_type": "stream",
     "text": [
      "1 2 3 4 5 "
     ]
    }
   ],
   "source": [
    "l=[1,2,3,4,5]\n",
    "for i in l:\n",
    "    print(i,end=\" \")"
   ]
  },
  {
   "cell_type": "code",
   "execution_count": 3,
   "id": "2c9c9acc-27b1-44f0-85be-d518a4665ef1",
   "metadata": {},
   "outputs": [
    {
     "name": "stdout",
     "output_type": "stream",
     "text": [
      "krishna nand joshi dhruv "
     ]
    }
   ],
   "source": [
    "l=[\"krishna\",\"nand\",\"joshi\",\"dhruv\",\"vij\"]\n",
    "for i in l:\n",
    "    if i == \"vij\":\n",
    "        break\n",
    "    print(i,end=\" \")"
   ]
  },
  {
   "cell_type": "code",
   "execution_count": 4,
   "id": "8f634ea2-029d-49f2-885c-48169eb92eb4",
   "metadata": {},
   "outputs": [],
   "source": [
    "#else after for loop will only run when it is completed(means all the iteration is runned or i has taken all the value of list,tuple,set or\n",
    "# any sequece) if break is used then else will not run"
   ]
  },
  {
   "cell_type": "code",
   "execution_count": 6,
   "id": "f98a1429-3b50-454e-ba41-3ae318250216",
   "metadata": {},
   "outputs": [
    {
     "name": "stdout",
     "output_type": "stream",
     "text": [
      "krishna nand joshi dhruv "
     ]
    }
   ],
   "source": [
    "l=[\"krishna\",\"nand\",\"joshi\",\"dhruv\",\"vij\"]\n",
    "for i in l:\n",
    "    if i == \"vij\":\n",
    "        break\n",
    "    print(i,end=\" \")\n",
    "else :\n",
    "    print(\"waiting.......\")"
   ]
  },
  {
   "cell_type": "code",
   "execution_count": 5,
   "id": "cb1f6267-da10-4a29-bba6-4fcdc4b88ad9",
   "metadata": {},
   "outputs": [
    {
     "name": "stdout",
     "output_type": "stream",
     "text": [
      "1 2 3 4 5 for loop completed\n"
     ]
    }
   ],
   "source": [
    "l=[1,2,3,4,5]\n",
    "for i in l:\n",
    "    print(i,end=\" \")\n",
    "else :\n",
    "    print(\"for loop completed\")"
   ]
  },
  {
   "cell_type": "code",
   "execution_count": 7,
   "id": "32febdeb-db67-436a-a256-0bb9520a0dc4",
   "metadata": {},
   "outputs": [],
   "source": [
    "#use of continue --> skip the iteration of that loop ,don't execute the code after continue go to next interation"
   ]
  },
  {
   "cell_type": "code",
   "execution_count": 8,
   "id": "052a2a0f-8aea-4fcf-8ef3-acc3efe3f42e",
   "metadata": {},
   "outputs": [
    {
     "name": "stdout",
     "output_type": "stream",
     "text": [
      "krishna nand joshi vij for loop completed\n"
     ]
    }
   ],
   "source": [
    "l=[\"krishna\",\"nand\",\"joshi\",\"dhruv\",\"vij\"]\n",
    "for i in l:\n",
    "    if i == \"dhruv\":\n",
    "        continue\n",
    "    print(i,end=\" \")\n",
    "else :\n",
    "    print(\"for loop completed\")"
   ]
  },
  {
   "cell_type": "code",
   "execution_count": 9,
   "id": "985a1e40-f709-4672-843b-b5167d770f58",
   "metadata": {},
   "outputs": [],
   "source": [
    "#range function --> data ko layega excluding the upper bound"
   ]
  },
  {
   "cell_type": "code",
   "execution_count": 10,
   "id": "31a68131-f8f0-4e9d-90ef-4a8778730427",
   "metadata": {},
   "outputs": [
    {
     "name": "stdout",
     "output_type": "stream",
     "text": [
      "range(0, 5)\n"
     ]
    }
   ],
   "source": [
    "print(range(5))"
   ]
  },
  {
   "cell_type": "code",
   "execution_count": 11,
   "id": "33049bb5-d087-4bdf-8771-e775c25c9bda",
   "metadata": {},
   "outputs": [
    {
     "data": {
      "text/plain": [
       "[0, 1, 2, 3, 4]"
      ]
     },
     "execution_count": 11,
     "metadata": {},
     "output_type": "execute_result"
    }
   ],
   "source": [
    "list(range(5)) #data generated excluding 5"
   ]
  },
  {
   "cell_type": "code",
   "execution_count": 12,
   "id": "6f96046e-76b0-4ced-ac0f-5d81d6021f17",
   "metadata": {},
   "outputs": [
    {
     "data": {
      "text/plain": [
       "[-3, -2, -1, 0, 1, 2, 3, 4]"
      ]
     },
     "execution_count": 12,
     "metadata": {},
     "output_type": "execute_result"
    }
   ],
   "source": [
    "list(range(-3,5,1)) # startig point ,end point ,jump"
   ]
  },
  {
   "cell_type": "code",
   "execution_count": 13,
   "id": "a805ba08-697d-44fa-b81f-cbb517d316b1",
   "metadata": {},
   "outputs": [],
   "source": [
    "#print even no."
   ]
  },
  {
   "cell_type": "code",
   "execution_count": 14,
   "id": "ccdff923-cc9a-4499-88e3-64abf4dac313",
   "metadata": {},
   "outputs": [
    {
     "name": "stdin",
     "output_type": "stream",
     "text": [
      "enter the no. upto which u want to print even no. 10\n"
     ]
    },
    {
     "name": "stdout",
     "output_type": "stream",
     "text": [
      "0\n",
      "2\n",
      "4\n",
      "6\n",
      "8\n"
     ]
    }
   ],
   "source": [
    "a=int(input(\"enter the no. upto which u want to print even no.\"))\n",
    "for i in range(0,a,2):\n",
    "    print(i)"
   ]
  },
  {
   "cell_type": "code",
   "execution_count": 15,
   "id": "7b1fa42f-124a-4352-b4a4-ece3e06db7ee",
   "metadata": {},
   "outputs": [],
   "source": [
    "#reverse the element in a list"
   ]
  },
  {
   "cell_type": "code",
   "execution_count": 16,
   "id": "dac63b5b-d44c-45ed-97c0-3c7c09c23c4a",
   "metadata": {},
   "outputs": [
    {
     "name": "stdout",
     "output_type": "stream",
     "text": [
      "vij dhruv joshi nand krishna "
     ]
    }
   ],
   "source": [
    "for i in l[::-1]:\n",
    "    print(i,end=\" \")"
   ]
  },
  {
   "cell_type": "code",
   "execution_count": 21,
   "id": "b9fd4545-3756-4253-baf5-f46c7b4132d9",
   "metadata": {},
   "outputs": [
    {
     "name": "stdout",
     "output_type": "stream",
     "text": [
      "krishna nand joshi dhruv vij "
     ]
    }
   ],
   "source": [
    "#or\n",
    "for i in range(len(l)):\n",
    "    print(l[i],end=\" \")"
   ]
  },
  {
   "cell_type": "code",
   "execution_count": 25,
   "id": "8a20da0d-0d89-4e6c-ad1d-749023982311",
   "metadata": {},
   "outputs": [
    {
     "data": {
      "text/plain": [
       "[5, 4, 3, 2, 1]"
      ]
     },
     "execution_count": 25,
     "metadata": {},
     "output_type": "execute_result"
    }
   ],
   "source": [
    "list(range(5,0,-1))"
   ]
  },
  {
   "cell_type": "code",
   "execution_count": 27,
   "id": "f7512ec9-ee43-4b80-ac6b-112a10ffa503",
   "metadata": {},
   "outputs": [
    {
     "name": "stdout",
     "output_type": "stream",
     "text": [
      "vij dhruv joshi nand krishna "
     ]
    }
   ],
   "source": [
    "for i in range(len(l)-1,-1,-1):\n",
    "    print(l[i],end=\" \")"
   ]
  },
  {
   "cell_type": "code",
   "execution_count": 28,
   "id": "0b1d1dad-5f79-4590-aee7-97f6d33886f5",
   "metadata": {},
   "outputs": [
    {
     "name": "stdout",
     "output_type": "stream",
     "text": [
      "krishna knj@gmail.com "
     ]
    }
   ],
   "source": [
    "#extracting data from dictionary\n",
    "d={'name':\"krishna\",'email':\"knj@gmail.com\"}\n",
    "for i in list(d.keys()) :\n",
    "    print(d[i],end=\" \")"
   ]
  },
  {
   "cell_type": "code",
   "execution_count": 30,
   "id": "e3c01039-c025-414f-9847-770b345dc2e6",
   "metadata": {},
   "outputs": [
    {
     "name": "stdout",
     "output_type": "stream",
     "text": [
      "('name', 'krishna')\n",
      "('email', 'knj@gmail.com')\n"
     ]
    }
   ],
   "source": [
    "for i in d.items() :\n",
    "    print(i)"
   ]
  },
  {
   "cell_type": "code",
   "execution_count": 31,
   "id": "974b663c-9137-4e67-ae02-4f32e2ca0fea",
   "metadata": {},
   "outputs": [],
   "source": [
    "#WHILE LOOP"
   ]
  },
  {
   "cell_type": "code",
   "execution_count": 33,
   "id": "5c8c36da-52f5-4a24-a20d-c8eb6162a53b",
   "metadata": {},
   "outputs": [
    {
     "name": "stdout",
     "output_type": "stream",
     "text": [
      "0 2 4 6 8 10 12 14 16 18 20 "
     ]
    }
   ],
   "source": [
    "a=0\n",
    "while a<=20:\n",
    "    print(a,end=\" \")\n",
    "    a+=2"
   ]
  },
  {
   "cell_type": "code",
   "execution_count": null,
   "id": "c980f363-afda-42c1-8f7e-7c00ef9ff9c0",
   "metadata": {},
   "outputs": [],
   "source": [
    "#sum of natural number"
   ]
  },
  {
   "cell_type": "code",
   "execution_count": 1,
   "id": "a3c7610b-05d0-4e53-9601-cc105b1ca1e7",
   "metadata": {},
   "outputs": [
    {
     "name": "stdin",
     "output_type": "stream",
     "text": [
      "start 10\n"
     ]
    },
    {
     "name": "stdout",
     "output_type": "stream",
     "text": [
      "sum id: 55\n"
     ]
    }
   ],
   "source": [
    "a = int(input(\"start\"))\n",
    "b=1\n",
    "num=0\n",
    "while b <= a:\n",
    "    num = num + b\n",
    "    b = b + 1\n",
    "print(\"sum id:\" ,num)"
   ]
  },
  {
   "cell_type": "code",
   "execution_count": 2,
   "id": "8137c691-25d6-4428-aa90-c7311ec40003",
   "metadata": {},
   "outputs": [],
   "source": [
    "#factorial"
   ]
  },
  {
   "cell_type": "code",
   "execution_count": 1,
   "id": "95531bdf-23a8-4154-8c4c-582a43e1ce2b",
   "metadata": {},
   "outputs": [
    {
     "name": "stdin",
     "output_type": "stream",
     "text": [
      "enter the no. 6\n"
     ]
    },
    {
     "name": "stdout",
     "output_type": "stream",
     "text": [
      "factorial of a given no. is 720\n"
     ]
    }
   ],
   "source": [
    "a = int(input(\"enter the no.\"))\n",
    "fact=1\n",
    "while a > 0 :\n",
    "    fact = fact * a\n",
    "    a = a -1\n",
    "print(\"factorial of a given no. is\",fact)"
   ]
  },
  {
   "cell_type": "code",
   "execution_count": 2,
   "id": "6573648b-a349-4723-adfc-04c6570cf4ac",
   "metadata": {},
   "outputs": [],
   "source": [
    "#fibbo series"
   ]
  },
  {
   "cell_type": "code",
   "execution_count": 4,
   "id": "fb55f349-6d60-40bf-a859-8642c398961d",
   "metadata": {},
   "outputs": [
    {
     "name": "stdin",
     "output_type": "stream",
     "text": [
      "enter the no. 25\n"
     ]
    },
    {
     "name": "stdout",
     "output_type": "stream",
     "text": [
      "0 1 1 2 3 5 8 13 21 "
     ]
    }
   ],
   "source": [
    "a = int(input(\"enter the no.\"))\n",
    "b=0\n",
    "c=1\n",
    "x=0\n",
    "while b < a:\n",
    "    print(b,end=\" \")\n",
    "    x=b\n",
    "    b = b + c\n",
    "    c=x"
   ]
  },
  {
   "cell_type": "code",
   "execution_count": 5,
   "id": "e7c7db30-6886-4863-8023-adb0a73ba421",
   "metadata": {},
   "outputs": [],
   "source": [
    "#generate the table of any no."
   ]
  },
  {
   "cell_type": "code",
   "execution_count": 7,
   "id": "06dba183-cfaa-4033-a642-d635ed82253c",
   "metadata": {},
   "outputs": [
    {
     "name": "stdin",
     "output_type": "stream",
     "text": [
      "enter the no. 19\n"
     ]
    },
    {
     "name": "stdout",
     "output_type": "stream",
     "text": [
      "19 38 57 76 95 114 133 152 171 190 "
     ]
    }
   ],
   "source": [
    "a = int(input(\"enter the no.\"))\n",
    "x = a\n",
    "while x <= a*10:\n",
    "    print(x,end=\" \")\n",
    "    x=x+a"
   ]
  },
  {
   "cell_type": "code",
   "execution_count": 2,
   "id": "30a09397-cf87-4f61-9785-a6439d8b5203",
   "metadata": {},
   "outputs": [
    {
     "name": "stdin",
     "output_type": "stream",
     "text": [
      "enter the no. 21\n"
     ]
    },
    {
     "name": "stdout",
     "output_type": "stream",
     "text": [
      "21 * 1 = 21\n",
      "21 * 2 = 42\n",
      "21 * 3 = 63\n",
      "21 * 4 = 84\n",
      "21 * 5 = 105\n",
      "21 * 6 = 126\n",
      "21 * 7 = 147\n",
      "21 * 8 = 168\n",
      "21 * 9 = 189\n",
      "21 * 10 = 210\n"
     ]
    }
   ],
   "source": [
    "a = int(input(\"enter the no.\"))\n",
    "i = 1\n",
    "while i <= 10:\n",
    "    print(a,\"*\",i,\"=\",a*i)\n",
    "    i=i+1"
   ]
  },
  {
   "cell_type": "markdown",
   "id": "f6bffd3f-4979-42c9-a44c-e0f7702ace5a",
   "metadata": {},
   "source": [
    "#comprehension"
   ]
  },
  {
   "cell_type": "code",
   "execution_count": 3,
   "id": "b467b52e-de54-4ff8-a975-5c4e191fba5c",
   "metadata": {},
   "outputs": [],
   "source": [
    "#square of a no. of a list on another list"
   ]
  },
  {
   "cell_type": "code",
   "execution_count": 4,
   "id": "cbbc14e0-9545-49d6-8b5b-e15fe643e49c",
   "metadata": {},
   "outputs": [],
   "source": [
    "l=[1,2,3,4,5,6,7]\n",
    "l1=[]"
   ]
  },
  {
   "cell_type": "code",
   "execution_count": 5,
   "id": "414027bb-9877-4cc3-8168-54934efc4a9a",
   "metadata": {},
   "outputs": [
    {
     "data": {
      "text/plain": [
       "[1, 4, 9, 16, 25, 36, 49]"
      ]
     },
     "execution_count": 5,
     "metadata": {},
     "output_type": "execute_result"
    }
   ],
   "source": [
    "for i in l:\n",
    "    l1.append(i**2)\n",
    "l1"
   ]
  },
  {
   "cell_type": "code",
   "execution_count": 6,
   "id": "6eb354d8-26b6-4a32-bfb1-cb269a42bd7f",
   "metadata": {},
   "outputs": [
    {
     "data": {
      "text/plain": [
       "[1, 4, 9, 16, 25, 36, 49]"
      ]
     },
     "execution_count": 6,
     "metadata": {},
     "output_type": "execute_result"
    }
   ],
   "source": [
    "#directly by comprehension\n",
    "[i**2 for i in l]"
   ]
  },
  {
   "cell_type": "code",
   "execution_count": 8,
   "id": "48c93c07-e8db-479c-b91d-f7794ec3f52a",
   "metadata": {},
   "outputs": [
    {
     "data": {
      "text/plain": [
       "[2, 4, 6]"
      ]
     },
     "execution_count": 8,
     "metadata": {},
     "output_type": "execute_result"
    }
   ],
   "source": [
    "[i for i in l if i%2==0]"
   ]
  },
  {
   "cell_type": "code",
   "execution_count": 9,
   "id": "218265c7-6ae1-4c6d-bc26-fe56c1d2562d",
   "metadata": {},
   "outputs": [],
   "source": [
    " #tuple comprehension-->generates generator function"
   ]
  },
  {
   "cell_type": "code",
   "execution_count": 12,
   "id": "06454f28-b535-4803-9287-a6e3b5f54fe7",
   "metadata": {},
   "outputs": [
    {
     "data": {
      "text/plain": [
       "(1, 4, 9, 16, 25, 36, 49)"
      ]
     },
     "execution_count": 12,
     "metadata": {},
     "output_type": "execute_result"
    }
   ],
   "source": [
    "tuple(i**2 for i in l)"
   ]
  },
  {
   "cell_type": "code",
   "execution_count": null,
   "id": "85c0e97f-1cdc-4cc2-ad22-adeedb6e55d5",
   "metadata": {},
   "outputs": [],
   "source": []
  }
 ],
 "metadata": {
  "kernelspec": {
   "display_name": "Python 3 (ipykernel)",
   "language": "python",
   "name": "python3"
  },
  "language_info": {
   "codemirror_mode": {
    "name": "ipython",
    "version": 3
   },
   "file_extension": ".py",
   "mimetype": "text/x-python",
   "name": "python",
   "nbconvert_exporter": "python",
   "pygments_lexer": "ipython3",
   "version": "3.13.3"
  }
 },
 "nbformat": 4,
 "nbformat_minor": 5
}
