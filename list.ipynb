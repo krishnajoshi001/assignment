{
 "cells": [
  {
   "cell_type": "code",
   "execution_count": 1,
   "id": "241da035-8fd2-4f2e-aba5-11c73af2ff74",
   "metadata": {},
   "outputs": [],
   "source": [
    "# list(SQUARE BRACKET) --> stores data in form of index,similarly to string "
   ]
  },
  {
   "cell_type": "code",
   "execution_count": 81,
   "id": "7882c103-bb00-4c00-aa17-5d097d1eeaf6",
   "metadata": {},
   "outputs": [],
   "source": [
    "l=[1,2,3.4,5+6j,'krishna',True]"
   ]
  },
  {
   "cell_type": "code",
   "execution_count": 82,
   "id": "709de948-a7cf-4dea-b511-e7d5553ce42b",
   "metadata": {},
   "outputs": [
    {
     "data": {
      "text/plain": [
       "[1, 2, 3.4, (5+6j), 'krishna', True]"
      ]
     },
     "execution_count": 82,
     "metadata": {},
     "output_type": "execute_result"
    }
   ],
   "source": [
    "l"
   ]
  },
  {
   "cell_type": "code",
   "execution_count": 83,
   "id": "45ae3a89-532d-488a-9cc9-959dff409861",
   "metadata": {},
   "outputs": [
    {
     "data": {
      "text/plain": [
       "list"
      ]
     },
     "execution_count": 83,
     "metadata": {},
     "output_type": "execute_result"
    }
   ],
   "source": [
    "type(l)"
   ]
  },
  {
   "cell_type": "code",
   "execution_count": 84,
   "id": "f0540ac2-b7d4-47fd-907b-e6d43c944642",
   "metadata": {},
   "outputs": [
    {
     "data": {
      "text/plain": [
       "2"
      ]
     },
     "execution_count": 84,
     "metadata": {},
     "output_type": "execute_result"
    }
   ],
   "source": [
    "l[1]\n"
   ]
  },
  {
   "cell_type": "code",
   "execution_count": 85,
   "id": "002347fb-bd52-4be6-9c89-43c691817b1f",
   "metadata": {},
   "outputs": [
    {
     "ename": "NameError",
     "evalue": "name 'L' is not defined",
     "output_type": "error",
     "traceback": [
      "\u001b[31m---------------------------------------------------------------------------\u001b[39m",
      "\u001b[31mNameError\u001b[39m                                 Traceback (most recent call last)",
      "\u001b[36mCell\u001b[39m\u001b[36m \u001b[39m\u001b[32mIn[85]\u001b[39m\u001b[32m, line 1\u001b[39m\n\u001b[32m----> \u001b[39m\u001b[32m1\u001b[39m \u001b[43mL\u001b[49m[\u001b[32m5\u001b[39m]\n",
      "\u001b[31mNameError\u001b[39m: name 'L' is not defined"
     ]
    }
   ],
   "source": [
    "L[5]"
   ]
  },
  {
   "cell_type": "code",
   "execution_count": 86,
   "id": "cfc9dcc6-bf0f-41e5-bff6-4d6f91667166",
   "metadata": {},
   "outputs": [
    {
     "ename": "_IncompleteInputError",
     "evalue": "incomplete input (301661046.py, line 1)",
     "output_type": "error",
     "traceback": [
      "  \u001b[36mCell\u001b[39m\u001b[36m \u001b[39m\u001b[32mIn[86]\u001b[39m\u001b[32m, line 1\u001b[39m\n\u001b[31m    \u001b[39m\u001b[31ml[5\u001b[39m\n       ^\n\u001b[31m_IncompleteInputError\u001b[39m\u001b[31m:\u001b[39m incomplete input\n"
     ]
    }
   ],
   "source": [
    "l[5"
   ]
  },
  {
   "cell_type": "code",
   "execution_count": 87,
   "id": "60fd1670-de04-43e9-85ce-317df7517f58",
   "metadata": {},
   "outputs": [
    {
     "data": {
      "text/plain": [
       "True"
      ]
     },
     "execution_count": 87,
     "metadata": {},
     "output_type": "execute_result"
    }
   ],
   "source": [
    "l[5]"
   ]
  },
  {
   "cell_type": "code",
   "execution_count": 88,
   "id": "3a1a055e-8ccf-4527-a439-f331933f055c",
   "metadata": {},
   "outputs": [
    {
     "data": {
      "text/plain": [
       "'krishna'"
      ]
     },
     "execution_count": 88,
     "metadata": {},
     "output_type": "execute_result"
    }
   ],
   "source": [
    "l[4]"
   ]
  },
  {
   "cell_type": "code",
   "execution_count": 89,
   "id": "f0f1c0ee-3261-4ceb-b789-1aecfc0cfe3b",
   "metadata": {},
   "outputs": [
    {
     "data": {
      "text/plain": [
       "[2, 3.4, (5+6j), 'krishna']"
      ]
     },
     "execution_count": 89,
     "metadata": {},
     "output_type": "execute_result"
    }
   ],
   "source": [
    "l[1:5]"
   ]
  },
  {
   "cell_type": "code",
   "execution_count": 90,
   "id": "af5221e5-acfd-4150-8c57-2f1261fbf526",
   "metadata": {},
   "outputs": [
    {
     "data": {
      "text/plain": [
       "[1, 3.4, 'krishna']"
      ]
     },
     "execution_count": 90,
     "metadata": {},
     "output_type": "execute_result"
    }
   ],
   "source": [
    "l[0:5:2]"
   ]
  },
  {
   "cell_type": "code",
   "execution_count": 91,
   "id": "0fad5f18-18fb-49f4-9930-4b8051ec4605",
   "metadata": {},
   "outputs": [
    {
     "data": {
      "text/plain": [
       "[True, 'krishna', (5+6j), 3.4, 2, 1]"
      ]
     },
     "execution_count": 91,
     "metadata": {},
     "output_type": "execute_result"
    }
   ],
   "source": [
    "l[::-1]"
   ]
  },
  {
   "cell_type": "code",
   "execution_count": 92,
   "id": "bd5b4828-9bdf-4024-9e6f-59f0e3dcca11",
   "metadata": {},
   "outputs": [],
   "source": [
    "a='dhruv'"
   ]
  },
  {
   "cell_type": "code",
   "execution_count": 93,
   "id": "628b42df-027b-4480-acbc-35a403e2b659",
   "metadata": {},
   "outputs": [
    {
     "data": {
      "text/plain": [
       "['d', 'h', 'r', 'u', 'v']"
      ]
     },
     "execution_count": 93,
     "metadata": {},
     "output_type": "execute_result"
    }
   ],
   "source": [
    "list(a) #store the string by breaking it into alphabet"
   ]
  },
  {
   "cell_type": "code",
   "execution_count": 94,
   "id": "a0a03843-34d6-4579-8328-11f0c5a02163",
   "metadata": {},
   "outputs": [
    {
     "data": {
      "text/plain": [
       "'kris'"
      ]
     },
     "execution_count": 94,
     "metadata": {},
     "output_type": "execute_result"
    }
   ],
   "source": [
    "l[4][0:4] #slicing in the list"
   ]
  },
  {
   "cell_type": "code",
   "execution_count": 95,
   "id": "798d59c7-fe2d-4ca0-ba55-38586b114091",
   "metadata": {},
   "outputs": [
    {
     "data": {
      "text/plain": [
       "int"
      ]
     },
     "execution_count": 95,
     "metadata": {},
     "output_type": "execute_result"
    }
   ],
   "source": [
    "type(l[1])"
   ]
  },
  {
   "cell_type": "code",
   "execution_count": 96,
   "id": "a19ef511-6f5a-4aab-b90b-bc5c74bf8933",
   "metadata": {},
   "outputs": [
    {
     "ename": "TypeError",
     "evalue": "'bool' object is not subscriptable",
     "output_type": "error",
     "traceback": [
      "\u001b[31m---------------------------------------------------------------------------\u001b[39m",
      "\u001b[31mTypeError\u001b[39m                                 Traceback (most recent call last)",
      "\u001b[36mCell\u001b[39m\u001b[36m \u001b[39m\u001b[32mIn[96]\u001b[39m\u001b[32m, line 1\u001b[39m\n\u001b[32m----> \u001b[39m\u001b[32m1\u001b[39m \u001b[43ml\u001b[49m\u001b[43m[\u001b[49m\u001b[32;43m5\u001b[39;49m\u001b[43m]\u001b[49m\u001b[43m[\u001b[49m\u001b[32;43m0\u001b[39;49m\u001b[43m:\u001b[49m\u001b[32;43m3\u001b[39;49m\u001b[43m]\u001b[49m\n",
      "\u001b[31mTypeError\u001b[39m: 'bool' object is not subscriptable"
     ]
    }
   ],
   "source": [
    "l[5][0:3]"
   ]
  },
  {
   "cell_type": "code",
   "execution_count": 97,
   "id": "388eda93-7161-4cca-beb0-57f99f222eaa",
   "metadata": {},
   "outputs": [
    {
     "data": {
      "text/plain": [
       "'Tr'"
      ]
     },
     "execution_count": 97,
     "metadata": {},
     "output_type": "execute_result"
    }
   ],
   "source": [
    "#how to convert into string\n",
    "str(l[5])[0:2]"
   ]
  },
  {
   "cell_type": "code",
   "execution_count": 98,
   "id": "9fd1da78-9ab1-4896-825c-549a1370361d",
   "metadata": {},
   "outputs": [
    {
     "ename": "TypeError",
     "evalue": "can only concatenate list (not \"int\") to list",
     "output_type": "error",
     "traceback": [
      "\u001b[31m---------------------------------------------------------------------------\u001b[39m",
      "\u001b[31mTypeError\u001b[39m                                 Traceback (most recent call last)",
      "\u001b[36mCell\u001b[39m\u001b[36m \u001b[39m\u001b[32mIn[98]\u001b[39m\u001b[32m, line 1\u001b[39m\n\u001b[32m----> \u001b[39m\u001b[32m1\u001b[39m \u001b[43ml\u001b[49m\u001b[43m+\u001b[49m\u001b[32;43m5\u001b[39;49m\n",
      "\u001b[31mTypeError\u001b[39m: can only concatenate list (not \"int\") to list"
     ]
    }
   ],
   "source": [
    "l+5"
   ]
  },
  {
   "cell_type": "code",
   "execution_count": 99,
   "id": "7b171b80-94fa-478f-8654-75e1fb1a924a",
   "metadata": {},
   "outputs": [],
   "source": [
    "l1=[5,6,7]\n"
   ]
  },
  {
   "cell_type": "code",
   "execution_count": 100,
   "id": "539026cd-97dd-48c6-9282-16f5f176c5d6",
   "metadata": {},
   "outputs": [
    {
     "data": {
      "text/plain": [
       "[1, 2, 3.4, (5+6j), 'krishna', True, 5, 6, 7]"
      ]
     },
     "execution_count": 100,
     "metadata": {},
     "output_type": "execute_result"
    }
   ],
   "source": [
    "l+l1"
   ]
  },
  {
   "cell_type": "code",
   "execution_count": 101,
   "id": "60251b80-da2f-4eaa-b1c9-cbdf4698fb25",
   "metadata": {},
   "outputs": [
    {
     "data": {
      "text/plain": [
       "6"
      ]
     },
     "execution_count": 101,
     "metadata": {},
     "output_type": "execute_result"
    }
   ],
   "source": [
    "len(l)"
   ]
  },
  {
   "cell_type": "code",
   "execution_count": 102,
   "id": "6baf7726-eaae-4996-b3c3-e254852a77c2",
   "metadata": {},
   "outputs": [
    {
     "data": {
      "text/plain": [
       "[5, 6, 7, 5, 6, 7, 5, 6, 7, 5, 6, 7]"
      ]
     },
     "execution_count": 102,
     "metadata": {},
     "output_type": "execute_result"
    }
   ],
   "source": [
    "l1*4"
   ]
  },
  {
   "cell_type": "code",
   "execution_count": 103,
   "id": "b773475a-f46c-485d-819e-03d8683b058a",
   "metadata": {},
   "outputs": [],
   "source": [
    "l.append('dhruv') #inbuilt function to add any element to the list"
   ]
  },
  {
   "cell_type": "code",
   "execution_count": null,
   "id": "d4afdc07-34ca-4b85-83c8-67e45d2f57c7",
   "metadata": {},
   "outputs": [],
   "source": []
  },
  {
   "cell_type": "code",
   "execution_count": 104,
   "id": "b4f4a3e1-0998-448a-9fc7-a0acc169cdc3",
   "metadata": {},
   "outputs": [
    {
     "data": {
      "text/plain": [
       "[1, 2, 3.4, (5+6j), 'krishna', True, 'dhruv']"
      ]
     },
     "execution_count": 104,
     "metadata": {},
     "output_type": "execute_result"
    }
   ],
   "source": [
    "l"
   ]
  },
  {
   "cell_type": "code",
   "execution_count": 105,
   "id": "a4445fa3-5f19-44d2-825c-67e62d1c1cbf",
   "metadata": {},
   "outputs": [],
   "source": [
    "l.append(l1)"
   ]
  },
  {
   "cell_type": "code",
   "execution_count": 106,
   "id": "96a38ca9-46e4-40f7-a8b4-b8f4b2073aab",
   "metadata": {},
   "outputs": [
    {
     "data": {
      "text/plain": [
       "[1, 2, 3.4, (5+6j), 'krishna', True, 'dhruv', [5, 6, 7]]"
      ]
     },
     "execution_count": 106,
     "metadata": {},
     "output_type": "execute_result"
    }
   ],
   "source": [
    "l"
   ]
  },
  {
   "cell_type": "code",
   "execution_count": 107,
   "id": "21a70933-ba77-4be8-9126-1362239bc0f1",
   "metadata": {},
   "outputs": [
    {
     "data": {
      "text/plain": [
       "[5, 6, 7]"
      ]
     },
     "execution_count": 107,
     "metadata": {},
     "output_type": "execute_result"
    }
   ],
   "source": [
    "l[7]"
   ]
  },
  {
   "cell_type": "code",
   "execution_count": 108,
   "id": "d43d4d9c-c0a0-4866-ac6d-65b300a29389",
   "metadata": {},
   "outputs": [
    {
     "ename": "IndexError",
     "evalue": "list index out of range",
     "output_type": "error",
     "traceback": [
      "\u001b[31m---------------------------------------------------------------------------\u001b[39m",
      "\u001b[31mIndexError\u001b[39m                                Traceback (most recent call last)",
      "\u001b[36mCell\u001b[39m\u001b[36m \u001b[39m\u001b[32mIn[108]\u001b[39m\u001b[32m, line 1\u001b[39m\n\u001b[32m----> \u001b[39m\u001b[32m1\u001b[39m \u001b[43ml\u001b[49m\u001b[43m[\u001b[49m\u001b[32;43m8\u001b[39;49m\u001b[43m]\u001b[49m[\u001b[32m2\u001b[39m]\n",
      "\u001b[31mIndexError\u001b[39m: list index out of range"
     ]
    }
   ],
   "source": [
    "l[8][2]"
   ]
  },
  {
   "cell_type": "code",
   "execution_count": 109,
   "id": "2bb204a6-baf5-47f4-8811-d4d82d6b5bf3",
   "metadata": {},
   "outputs": [],
   "source": [
    "#extend function it puts after unrapping the element and append add the data as it is"
   ]
  },
  {
   "cell_type": "code",
   "execution_count": 110,
   "id": "a01005b4-cb6e-47b2-839e-e4a587330bdd",
   "metadata": {},
   "outputs": [],
   "source": [
    "#iterable means data inside data like string"
   ]
  },
  {
   "cell_type": "code",
   "execution_count": 111,
   "id": "147339e5-7225-428a-8759-48b29672e59d",
   "metadata": {},
   "outputs": [],
   "source": [
    "l.extend(l1)"
   ]
  },
  {
   "cell_type": "code",
   "execution_count": 112,
   "id": "84de21e9-6ae1-468c-9303-9716e5a68472",
   "metadata": {},
   "outputs": [
    {
     "data": {
      "text/plain": [
       "[1, 2, 3.4, (5+6j), 'krishna', True, 'dhruv', [5, 6, 7], 5, 6, 7]"
      ]
     },
     "execution_count": 112,
     "metadata": {},
     "output_type": "execute_result"
    }
   ],
   "source": [
    "l"
   ]
  },
  {
   "cell_type": "code",
   "execution_count": 113,
   "id": "c5ba2fe7-156a-4a62-8215-866ab80fad7c",
   "metadata": {},
   "outputs": [],
   "source": [
    "l.extend('maa')"
   ]
  },
  {
   "cell_type": "code",
   "execution_count": 114,
   "id": "409778eb-08f7-4185-bd06-c32f4be5ffbb",
   "metadata": {},
   "outputs": [
    {
     "data": {
      "text/plain": [
       "[1,\n",
       " 2,\n",
       " 3.4,\n",
       " (5+6j),\n",
       " 'krishna',\n",
       " True,\n",
       " 'dhruv',\n",
       " [5, 6, 7],\n",
       " 5,\n",
       " 6,\n",
       " 7,\n",
       " 'm',\n",
       " 'a',\n",
       " 'a']"
      ]
     },
     "execution_count": 114,
     "metadata": {},
     "output_type": "execute_result"
    }
   ],
   "source": [
    "l\n"
   ]
  },
  {
   "cell_type": "code",
   "execution_count": 115,
   "id": "4907c55e-f530-4ee6-bc67-217b5ec0fa41",
   "metadata": {},
   "outputs": [
    {
     "data": {
      "text/plain": [
       "[1,\n",
       " 2,\n",
       " 3.4,\n",
       " (5+6j),\n",
       " 'krishna',\n",
       " True,\n",
       " 'dhruv',\n",
       " [5, 6, 7],\n",
       " 5,\n",
       " 6,\n",
       " 7,\n",
       " 'm',\n",
       " 'a',\n",
       " 'a']"
      ]
     },
     "execution_count": 115,
     "metadata": {},
     "output_type": "execute_result"
    }
   ],
   "source": [
    "l"
   ]
  },
  {
   "cell_type": "code",
   "execution_count": 116,
   "id": "a5403e00-53b1-4c71-a68d-910ad7df3568",
   "metadata": {},
   "outputs": [],
   "source": [
    "l.remove('m')"
   ]
  },
  {
   "cell_type": "code",
   "execution_count": 117,
   "id": "2383416a-73cb-480f-9642-3bfbfbc8177c",
   "metadata": {},
   "outputs": [],
   "source": [
    "l.remove('a')"
   ]
  },
  {
   "cell_type": "code",
   "execution_count": 118,
   "id": "f7e5e9fc-3d0c-4ae4-a7dd-86821fc124ad",
   "metadata": {},
   "outputs": [
    {
     "data": {
      "text/plain": [
       "[1, 2, 3.4, (5+6j), 'krishna', True, 'dhruv', [5, 6, 7], 5, 6, 7, 'a']"
      ]
     },
     "execution_count": 118,
     "metadata": {},
     "output_type": "execute_result"
    }
   ],
   "source": [
    "l"
   ]
  },
  {
   "cell_type": "code",
   "execution_count": 119,
   "id": "81790949-7403-4696-972e-b60b948213b6",
   "metadata": {},
   "outputs": [],
   "source": [
    "l.remove(\"a\")"
   ]
  },
  {
   "cell_type": "code",
   "execution_count": 120,
   "id": "3c8a116e-37ec-4386-a39c-6a295ee743a0",
   "metadata": {},
   "outputs": [
    {
     "data": {
      "text/plain": [
       "[1, 2, 3.4, (5+6j), 'krishna', True, 'dhruv', [5, 6, 7], 5, 6, 7]"
      ]
     },
     "execution_count": 120,
     "metadata": {},
     "output_type": "execute_result"
    }
   ],
   "source": [
    "l"
   ]
  },
  {
   "cell_type": "code",
   "execution_count": 121,
   "id": "56842106-d84a-417c-abaf-92c5890da7d2",
   "metadata": {},
   "outputs": [],
   "source": [
    " #insert operation is used toh add data at a particular index in append and extend the elements are added at the last of the string"
   ]
  },
  {
   "cell_type": "code",
   "execution_count": 122,
   "id": "0ef90e0d-eebf-4865-8b0b-efae72ff5d45",
   "metadata": {},
   "outputs": [],
   "source": [
    "l.insert(1,'love')"
   ]
  },
  {
   "cell_type": "code",
   "execution_count": 123,
   "id": "ddf85494-abdf-4e3c-98b8-77ed3d00849b",
   "metadata": {},
   "outputs": [
    {
     "data": {
      "text/plain": [
       "[1, 'love', 2, 3.4, (5+6j), 'krishna', True, 'dhruv', [5, 6, 7], 5, 6, 7]"
      ]
     },
     "execution_count": 123,
     "metadata": {},
     "output_type": "execute_result"
    }
   ],
   "source": [
    "l"
   ]
  },
  {
   "cell_type": "code",
   "execution_count": 125,
   "id": "c7c63960-9a3a-4d2e-bcce-4e443d605f63",
   "metadata": {},
   "outputs": [],
   "source": [
    "l.remove('love')"
   ]
  },
  {
   "cell_type": "code",
   "execution_count": 126,
   "id": "1b00ee55-e0f2-4b02-befe-65e7435253b0",
   "metadata": {},
   "outputs": [],
   "source": [
    "l.remove(5)"
   ]
  },
  {
   "cell_type": "code",
   "execution_count": 127,
   "id": "d9211031-4f0a-4756-9b6a-db4b760ec0e9",
   "metadata": {},
   "outputs": [],
   "source": [
    "l.remove(6)"
   ]
  },
  {
   "cell_type": "code",
   "execution_count": 128,
   "id": "059493a6-15f9-44ad-a3db-9b1324d5012e",
   "metadata": {},
   "outputs": [
    {
     "data": {
      "text/plain": [
       "[1, 2, 3.4, (5+6j), 'krishna', True, 'dhruv', [5, 6, 7], 7]"
      ]
     },
     "execution_count": 128,
     "metadata": {},
     "output_type": "execute_result"
    }
   ],
   "source": [
    "l"
   ]
  },
  {
   "cell_type": "code",
   "execution_count": 129,
   "id": "7fccd9b0-915f-4091-bdcf-1f6b0a60c118",
   "metadata": {},
   "outputs": [],
   "source": [
    "l1.insert(-1,4)"
   ]
  },
  {
   "cell_type": "code",
   "execution_count": 130,
   "id": "72698040-5b91-4d17-9fe7-ec012fe0e244",
   "metadata": {},
   "outputs": [
    {
     "data": {
      "text/plain": [
       "[5, 6, 4, 7]"
      ]
     },
     "execution_count": 130,
     "metadata": {},
     "output_type": "execute_result"
    }
   ],
   "source": [
    "l1"
   ]
  },
  {
   "cell_type": "code",
   "execution_count": 131,
   "id": "1e7601ba-27ad-4246-a676-c48d087dde70",
   "metadata": {},
   "outputs": [],
   "source": [
    "#similarly pop is used to remove by index\n",
    "#remove jo h directly value ko hatata \"\"\""
   ]
  },
  {
   "cell_type": "code",
   "execution_count": 132,
   "id": "32771716-6a23-4ed6-9250-35eb58c68e3e",
   "metadata": {},
   "outputs": [
    {
     "data": {
      "text/plain": [
       "7"
      ]
     },
     "execution_count": 132,
     "metadata": {},
     "output_type": "execute_result"
    }
   ],
   "source": [
    "l1.pop(-1)"
   ]
  },
  {
   "cell_type": "code",
   "execution_count": 133,
   "id": "3855f804-7684-4884-9af8-1af76e9844c4",
   "metadata": {},
   "outputs": [
    {
     "data": {
      "text/plain": [
       "[5, 6, 4]"
      ]
     },
     "execution_count": 133,
     "metadata": {},
     "output_type": "execute_result"
    }
   ],
   "source": [
    "l1"
   ]
  },
  {
   "cell_type": "code",
   "execution_count": 134,
   "id": "0ab698d5-77db-427f-bd08-7dbb93c1453a",
   "metadata": {},
   "outputs": [
    {
     "data": {
      "text/plain": [
       "7"
      ]
     },
     "execution_count": 134,
     "metadata": {},
     "output_type": "execute_result"
    }
   ],
   "source": [
    "l.pop(-1)"
   ]
  },
  {
   "cell_type": "code",
   "execution_count": 135,
   "id": "cf377d0d-5c87-4814-af30-a08edbf3cede",
   "metadata": {},
   "outputs": [
    {
     "data": {
      "text/plain": [
       "[1, 2, 3.4, (5+6j), 'krishna', True, 'dhruv', [5, 6, 4]]"
      ]
     },
     "execution_count": 135,
     "metadata": {},
     "output_type": "execute_result"
    }
   ],
   "source": [
    "l\n"
   ]
  },
  {
   "cell_type": "code",
   "execution_count": 136,
   "id": "ac341e33-710f-4356-ac18-d8adb5db932a",
   "metadata": {},
   "outputs": [
    {
     "ename": "ValueError",
     "evalue": "list.remove(x): x not in list",
     "output_type": "error",
     "traceback": [
      "\u001b[31m---------------------------------------------------------------------------\u001b[39m",
      "\u001b[31mValueError\u001b[39m                                Traceback (most recent call last)",
      "\u001b[36mCell\u001b[39m\u001b[36m \u001b[39m\u001b[32mIn[136]\u001b[39m\u001b[32m, line 1\u001b[39m\n\u001b[32m----> \u001b[39m\u001b[32m1\u001b[39m \u001b[43ml\u001b[49m\u001b[43m.\u001b[49m\u001b[43mremove\u001b[49m\u001b[43m(\u001b[49m\u001b[43ml\u001b[49m\u001b[43m[\u001b[49m\u001b[43m-\u001b[49m\u001b[32;43m1\u001b[39;49m\u001b[43m]\u001b[49m\u001b[43m[\u001b[49m\u001b[32;43m1\u001b[39;49m\u001b[43m]\u001b[49m\u001b[43m)\u001b[49m\n",
      "\u001b[31mValueError\u001b[39m: list.remove(x): x not in list"
     ]
    }
   ],
   "source": [
    "l.remove(l[-1][1])"
   ]
  },
  {
   "cell_type": "code",
   "execution_count": 137,
   "id": "04619e2f-06e8-4cdc-9697-2c23b90927d0",
   "metadata": {},
   "outputs": [],
   "source": [
    "l1.reverse() #actually revrses the string"
   ]
  },
  {
   "cell_type": "code",
   "execution_count": 138,
   "id": "2e75d7e1-9b77-4a33-a226-9ed2c4ae5544",
   "metadata": {},
   "outputs": [
    {
     "data": {
      "text/plain": [
       "[4, 6, 5]"
      ]
     },
     "execution_count": 138,
     "metadata": {},
     "output_type": "execute_result"
    }
   ],
   "source": [
    "l1"
   ]
  },
  {
   "cell_type": "code",
   "execution_count": 139,
   "id": "4211dad1-516a-4e3e-8274-e145993db78f",
   "metadata": {},
   "outputs": [],
   "source": [
    "#we can use sort operation when a list only contains one type of elements \n",
    "l1.sort()"
   ]
  },
  {
   "cell_type": "code",
   "execution_count": 140,
   "id": "55c6caec-c89a-471b-9aca-b2c4cd16859b",
   "metadata": {},
   "outputs": [
    {
     "data": {
      "text/plain": [
       "[4, 5, 6]"
      ]
     },
     "execution_count": 140,
     "metadata": {},
     "output_type": "execute_result"
    }
   ],
   "source": [
    "l1\n"
   ]
  },
  {
   "cell_type": "code",
   "execution_count": 141,
   "id": "bb945ed8-fbb5-4436-978c-73450846be21",
   "metadata": {},
   "outputs": [
    {
     "ename": "TypeError",
     "evalue": "'<' not supported between instances of 'complex' and 'float'",
     "output_type": "error",
     "traceback": [
      "\u001b[31m---------------------------------------------------------------------------\u001b[39m",
      "\u001b[31mTypeError\u001b[39m                                 Traceback (most recent call last)",
      "\u001b[36mCell\u001b[39m\u001b[36m \u001b[39m\u001b[32mIn[141]\u001b[39m\u001b[32m, line 1\u001b[39m\n\u001b[32m----> \u001b[39m\u001b[32m1\u001b[39m \u001b[43ml\u001b[49m\u001b[43m.\u001b[49m\u001b[43msort\u001b[49m\u001b[43m(\u001b[49m\u001b[43m)\u001b[49m\n",
      "\u001b[31mTypeError\u001b[39m: '<' not supported between instances of 'complex' and 'float'"
     ]
    }
   ],
   "source": [
    "l.sort()"
   ]
  },
  {
   "cell_type": "code",
   "execution_count": 142,
   "id": "a8920c6b-6adb-4c67-a873-9026ff883cbb",
   "metadata": {},
   "outputs": [
    {
     "data": {
      "text/plain": [
       "4"
      ]
     },
     "execution_count": 142,
     "metadata": {},
     "output_type": "execute_result"
    }
   ],
   "source": [
    "l.index(\"krishna\")"
   ]
  },
  {
   "cell_type": "code",
   "execution_count": 143,
   "id": "9b5afcd8-181d-4d38-9d35-b7648d3315b2",
   "metadata": {},
   "outputs": [
    {
     "data": {
      "text/plain": [
       "0"
      ]
     },
     "execution_count": 143,
     "metadata": {},
     "output_type": "execute_result"
    }
   ],
   "source": [
    "l.count(5)"
   ]
  },
  {
   "cell_type": "code",
   "execution_count": 144,
   "id": "01eb8478-a879-4bf2-8919-30e1853c75c2",
   "metadata": {},
   "outputs": [
    {
     "data": {
      "text/plain": [
       "[1, 2, 3.4, (5+6j), 'krishna', True, 'dhruv', [4, 5, 6]]"
      ]
     },
     "execution_count": 144,
     "metadata": {},
     "output_type": "execute_result"
    }
   ],
   "source": [
    "l"
   ]
  },
  {
   "cell_type": "code",
   "execution_count": 145,
   "id": "ca34574b-1c8e-445e-86d7-291636a54770",
   "metadata": {},
   "outputs": [],
   "source": [
    "l[2]=10"
   ]
  },
  {
   "cell_type": "code",
   "execution_count": 146,
   "id": "a62015fd-c46c-414f-aaac-082d09d82b0c",
   "metadata": {},
   "outputs": [],
   "source": [
    "s='modi'"
   ]
  },
  {
   "cell_type": "code",
   "execution_count": 147,
   "id": "13ef0936-0f79-43b3-a189-27f5f7e0fb1f",
   "metadata": {},
   "outputs": [
    {
     "ename": "TypeError",
     "evalue": "'str' object does not support item assignment",
     "output_type": "error",
     "traceback": [
      "\u001b[31m---------------------------------------------------------------------------\u001b[39m",
      "\u001b[31mTypeError\u001b[39m                                 Traceback (most recent call last)",
      "\u001b[36mCell\u001b[39m\u001b[36m \u001b[39m\u001b[32mIn[147]\u001b[39m\u001b[32m, line 1\u001b[39m\n\u001b[32m----> \u001b[39m\u001b[32m1\u001b[39m \u001b[43ms\u001b[49m\u001b[43m[\u001b[49m\u001b[32;43m0\u001b[39;49m\u001b[43m]\u001b[49m=\u001b[32m1\u001b[39m\n",
      "\u001b[31mTypeError\u001b[39m: 'str' object does not support item assignment"
     ]
    }
   ],
   "source": [
    "s[0]=1"
   ]
  },
  {
   "cell_type": "code",
   "execution_count": 148,
   "id": "f0b65e3b-2bee-436d-a6ab-6b90b5032530",
   "metadata": {},
   "outputs": [],
   "source": [
    "# when we can change the element at same index by accesing through index the it is mutable \n",
    "#so strings are immutable and lists are mutable"
   ]
  },
  {
   "cell_type": "code",
   "execution_count": 149,
   "id": "f36353a8-f7ac-4ba1-9a0c-964ed4fea479",
   "metadata": {},
   "outputs": [],
   "source": [
    "#TUPLES(square bracket) --> it can also store any type of data"
   ]
  },
  {
   "cell_type": "code",
   "execution_count": 150,
   "id": "5525e855-ebe2-465c-b653-8f34613d8f60",
   "metadata": {},
   "outputs": [],
   "source": [
    "t=(1,4.5,False,'krishna')"
   ]
  },
  {
   "cell_type": "code",
   "execution_count": 151,
   "id": "f0325f01-99b1-42fe-b29c-9eb63236b8b5",
   "metadata": {},
   "outputs": [
    {
     "data": {
      "text/plain": [
       "(1, 4.5, False, 'krishna')"
      ]
     },
     "execution_count": 151,
     "metadata": {},
     "output_type": "execute_result"
    }
   ],
   "source": [
    "t"
   ]
  },
  {
   "cell_type": "code",
   "execution_count": 152,
   "id": "f447eb30-03ad-4fca-8d58-d0927c644a5d",
   "metadata": {},
   "outputs": [
    {
     "data": {
      "text/plain": [
       "1"
      ]
     },
     "execution_count": 152,
     "metadata": {},
     "output_type": "execute_result"
    }
   ],
   "source": [
    "t[0]"
   ]
  },
  {
   "cell_type": "code",
   "execution_count": 153,
   "id": "46de1c75-089c-4b41-af61-bb8b189be102",
   "metadata": {},
   "outputs": [
    {
     "data": {
      "text/plain": [
       "(1, False)"
      ]
     },
     "execution_count": 153,
     "metadata": {},
     "output_type": "execute_result"
    }
   ],
   "source": [
    "t[0:4:2]"
   ]
  },
  {
   "cell_type": "code",
   "execution_count": 154,
   "id": "ce471de8-ac63-4c8e-b5fe-1fc6578b97ea",
   "metadata": {},
   "outputs": [],
   "source": [
    "#set(curly bracket)--> also can contain any type of element"
   ]
  },
  {
   "cell_type": "code",
   "execution_count": 155,
   "id": "e6d7e47d-de34-45ba-8ad4-93e258e0880c",
   "metadata": {},
   "outputs": [],
   "source": [
    "s={1,'krishna',True,3.4}"
   ]
  },
  {
   "cell_type": "code",
   "execution_count": 156,
   "id": "7fbdee45-a191-4d8d-9476-92a7bdbcaa69",
   "metadata": {},
   "outputs": [
    {
     "data": {
      "text/plain": [
       "set"
      ]
     },
     "execution_count": 156,
     "metadata": {},
     "output_type": "execute_result"
    }
   ],
   "source": [
    "type(s)"
   ]
  },
  {
   "cell_type": "code",
   "execution_count": 157,
   "id": "35e3177e-a29d-4d57-8957-0e2428cf278d",
   "metadata": {},
   "outputs": [],
   "source": [
    "#set is usefull when we want to remove duplicacy"
   ]
  },
  {
   "cell_type": "code",
   "execution_count": 158,
   "id": "e1009ca7-8209-4976-b5ce-1a71d75101d6",
   "metadata": {},
   "outputs": [],
   "source": [
    "#in set indexing and slicing is not going to work"
   ]
  },
  {
   "cell_type": "code",
   "execution_count": 159,
   "id": "2c4c9fa6-628b-4650-8291-12ff14bc4f9f",
   "metadata": {},
   "outputs": [],
   "source": [
    "s.add('love')"
   ]
  },
  {
   "cell_type": "code",
   "execution_count": 160,
   "id": "67c71208-a7e6-42d4-b38f-2ea93ca50ed4",
   "metadata": {},
   "outputs": [
    {
     "data": {
      "text/plain": [
       "{1, 3.4, 'krishna', 'love'}"
      ]
     },
     "execution_count": 160,
     "metadata": {},
     "output_type": "execute_result"
    }
   ],
   "source": [
    "s"
   ]
  },
  {
   "cell_type": "code",
   "execution_count": null,
   "id": "38457e9c-cebc-4213-9113-02937aba8610",
   "metadata": {},
   "outputs": [],
   "source": []
  },
  {
   "cell_type": "code",
   "execution_count": null,
   "id": "716d331c-5b8b-4dd9-8d8d-6bc73b7885f1",
   "metadata": {},
   "outputs": [],
   "source": []
  },
  {
   "cell_type": "code",
   "execution_count": null,
   "id": "4d90feea-8003-4add-b3e1-1feb65818185",
   "metadata": {},
   "outputs": [],
   "source": []
  },
  {
   "cell_type": "code",
   "execution_count": null,
   "id": "ea15b83e-b97c-4811-acc9-f5ebc21a6f6b",
   "metadata": {},
   "outputs": [],
   "source": []
  }
 ],
 "metadata": {
  "kernelspec": {
   "display_name": "Python 3 (ipykernel)",
   "language": "python",
   "name": "python3"
  },
  "language_info": {
   "codemirror_mode": {
    "name": "ipython",
    "version": 3
   },
   "file_extension": ".py",
   "mimetype": "text/x-python",
   "name": "python",
   "nbconvert_exporter": "python",
   "pygments_lexer": "ipython3",
   "version": "3.13.3"
  }
 },
 "nbformat": 4,
 "nbformat_minor": 5
}
