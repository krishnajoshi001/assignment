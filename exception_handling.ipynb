{
 "cells": [
  {
   "cell_type": "code",
   "execution_count": 1,
   "id": "be086a30-08c9-476c-b66b-509947e33446",
   "metadata": {},
   "outputs": [],
   "source": [
    "#jab bhi hume lage ki kisi code k andr error aa skta h toh ose hum try and catch block m rkh denge"
   ]
  },
  {
   "cell_type": "code",
   "execution_count": 4,
   "id": "0aa9ada0-866e-41a1-b89a-51d9933170b8",
   "metadata": {},
   "outputs": [
    {
     "name": "stdout",
     "output_type": "stream",
     "text": [
      "exception is [Errno 2] No such file or directory: 'text.txt'\n"
     ]
    }
   ],
   "source": [
    "try :\n",
    "    f=open(\"text.txt\",'r')\n",
    "    f.write(\"i love u\")\n",
    "except Exception as e:\n",
    "    print(\"exception is\",e)\n",
    "else :\n",
    "    f.close()\n",
    "    print(\"code is runed succesfully\")"
   ]
  },
  {
   "cell_type": "code",
   "execution_count": 5,
   "id": "e3ece1fb-5826-46e8-bc22-52c4a15484bc",
   "metadata": {},
   "outputs": [
    {
     "name": "stdout",
     "output_type": "stream",
     "text": [
      "this will be run once our try block is executed without error\n"
     ]
    }
   ],
   "source": [
    "try :\n",
    "    f=open(\"text.txt\",'w')\n",
    "    f.write(\"i love u\")\n",
    "except Exception as e:\n",
    "    print(\"exception is\",e)\n",
    "else :\n",
    "    f.close()\n",
    "    print(\"this will be run once our try block is executed without error\")"
   ]
  },
  {
   "cell_type": "code",
   "execution_count": 6,
   "id": "fab2e295-7a0f-4e15-90fb-563921bf8b16",
   "metadata": {},
   "outputs": [],
   "source": [
    "#finally block will always run"
   ]
  },
  {
   "cell_type": "code",
   "execution_count": 7,
   "id": "96b728b4-00c8-436d-a305-d800ab511c69",
   "metadata": {},
   "outputs": [
    {
     "name": "stdout",
     "output_type": "stream",
     "text": [
      "exception is not writable\n",
      "this block will be executed in any situation\n"
     ]
    }
   ],
   "source": [
    "try :\n",
    "    f=open(\"text.txt\",'r')\n",
    "    f.write(\"i love u\")\n",
    "except Exception as e:\n",
    "    print(\"exception is\",e)\n",
    "else :\n",
    "    f.close()\n",
    "    print(\"code is runed succesfully\")\n",
    "finally:\n",
    "    print(\"this block will be executed in any situation\")"
   ]
  },
  {
   "cell_type": "code",
   "execution_count": null,
   "id": "6d6caf95-96dd-49d3-bde6-c156c95241c9",
   "metadata": {},
   "outputs": [],
   "source": []
  }
 ],
 "metadata": {
  "kernelspec": {
   "display_name": "Python 3 (ipykernel)",
   "language": "python",
   "name": "python3"
  },
  "language_info": {
   "codemirror_mode": {
    "name": "ipython",
    "version": 3
   },
   "file_extension": ".py",
   "mimetype": "text/x-python",
   "name": "python",
   "nbconvert_exporter": "python",
   "pygments_lexer": "ipython3",
   "version": "3.13.3"
  }
 },
 "nbformat": 4,
 "nbformat_minor": 5
}
