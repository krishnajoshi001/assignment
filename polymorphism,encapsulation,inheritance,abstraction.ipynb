{
 "cells": [
  {
   "cell_type": "code",
   "execution_count": 19,
   "id": "44a318c9-b985-456d-96a4-729c90da3bd6",
   "metadata": {},
   "outputs": [],
   "source": [
    "def add(a,b):  #behaving different according to the inputed data\n",
    "    return a+b"
   ]
  },
  {
   "cell_type": "code",
   "execution_count": 20,
   "id": "72058bb6-d0b2-4cce-827b-179257104afe",
   "metadata": {},
   "outputs": [
    {
     "data": {
      "text/plain": [
       "7"
      ]
     },
     "execution_count": 20,
     "metadata": {},
     "output_type": "execute_result"
    }
   ],
   "source": [
    "add(3,4)"
   ]
  },
  {
   "cell_type": "code",
   "execution_count": 21,
   "id": "db60a69f-c762-4043-8591-c0a6c0628fd1",
   "metadata": {},
   "outputs": [
    {
     "data": {
      "text/plain": [
       "'krishna joshi'"
      ]
     },
     "execution_count": 21,
     "metadata": {},
     "output_type": "execute_result"
    }
   ],
   "source": [
    "add(\"krishna \",\"joshi\")"
   ]
  },
  {
   "cell_type": "code",
   "execution_count": 22,
   "id": "0595a14a-3129-4ede-883a-7a706a33323e",
   "metadata": {},
   "outputs": [
    {
     "data": {
      "text/plain": [
       "[1, 2, 3, 4, 5, 6]"
      ]
     },
     "execution_count": 22,
     "metadata": {},
     "output_type": "execute_result"
    }
   ],
   "source": [
    "add([1,2,3],[4,5,6])"
   ]
  },
  {
   "cell_type": "code",
   "execution_count": 23,
   "id": "e20f5f39-20c2-40d9-a19e-cc33019a4c6a",
   "metadata": {},
   "outputs": [],
   "source": [
    "class data:\n",
    "    def syllabus(self):\n",
    "        print('this is the syllabus of data science')"
   ]
  },
  {
   "cell_type": "code",
   "execution_count": 24,
   "id": "c4a1ecb9-b3d2-448d-a785-49bc59017cec",
   "metadata": {},
   "outputs": [],
   "source": [
    "class maths:\n",
    "    def syllabus(self):\n",
    "        print(\"this is the syllabus of maths\")"
   ]
  },
  {
   "cell_type": "code",
   "execution_count": 25,
   "id": "8da56184-4475-4355-89f1-ca5c8eccff6a",
   "metadata": {},
   "outputs": [],
   "source": [
    "data=data()"
   ]
  },
  {
   "cell_type": "code",
   "execution_count": 26,
   "id": "acf72010-1928-4ebe-a25f-f197adc02079",
   "metadata": {},
   "outputs": [],
   "source": [
    "maths=maths()"
   ]
  },
  {
   "cell_type": "code",
   "execution_count": 27,
   "id": "15133fae-e622-456a-873f-4f183ca30151",
   "metadata": {},
   "outputs": [],
   "source": [
    "class_object=[data,maths]"
   ]
  },
  {
   "cell_type": "code",
   "execution_count": 28,
   "id": "b3336adc-f0e6-48cd-afae-9b5726c1d5af",
   "metadata": {},
   "outputs": [
    {
     "name": "stdout",
     "output_type": "stream",
     "text": [
      "this is the syllabus of data science\n",
      "this is the syllabus of maths\n"
     ]
    }
   ],
   "source": [
    "for i in class_object:\n",
    "    i.syllabus()"
   ]
  },
  {
   "cell_type": "code",
   "execution_count": 29,
   "id": "55dbbf51-3ae9-4f8f-ae30-87ea853eea87",
   "metadata": {},
   "outputs": [],
   "source": [
    "#encapsulation --> (user ko internal structure ko modify karne se prevent karta h) just like ka capsule"
   ]
  },
  {
   "cell_type": "code",
   "execution_count": 30,
   "id": "fa67f524-dc5d-4898-a126-543eb5349500",
   "metadata": {},
   "outputs": [],
   "source": [
    "class test:\n",
    "\n",
    "    def __init__(self,a,b):\n",
    "        self.a=a\n",
    "        self.b=b"
   ]
  },
  {
   "cell_type": "code",
   "execution_count": 31,
   "id": "98dc9f77-fa87-42dd-806d-29fdf40c24a8",
   "metadata": {},
   "outputs": [],
   "source": [
    "t=test(2,3)"
   ]
  },
  {
   "cell_type": "code",
   "execution_count": 32,
   "id": "d6d6fe71-1f87-47db-a26d-52ba65008d97",
   "metadata": {},
   "outputs": [],
   "source": [
    "t.a=3"
   ]
  },
  {
   "cell_type": "code",
   "execution_count": 33,
   "id": "cb6cc884-4feb-45d2-b6f5-5aa4964a2a18",
   "metadata": {},
   "outputs": [
    {
     "data": {
      "text/plain": [
       "3"
      ]
     },
     "execution_count": 33,
     "metadata": {},
     "output_type": "execute_result"
    }
   ],
   "source": [
    "t.a"
   ]
  },
  {
   "cell_type": "code",
   "execution_count": 34,
   "id": "27c40971-c2f9-4df0-b063-73424f2ba24a",
   "metadata": {},
   "outputs": [],
   "source": [
    "class car:\n",
    "    def __init__(self,year,make,speed):\n",
    "        self.__year=year #double underscore is used to hide the data from user can be used with function also\n",
    "        self.__make=make\n",
    "        self.__speed=0\n",
    "    def setspeed(self,speed):\n",
    "        self.__speed=0 if speed<0 else speed\n",
    "    def getspeed(self):\n",
    "        return self.__speed"
   ]
  },
  {
   "cell_type": "code",
   "execution_count": 35,
   "id": "43114fe4-c935-4390-a067-6d6d09f3b679",
   "metadata": {},
   "outputs": [],
   "source": [
    "c=car(2023,2022,20)"
   ]
  },
  {
   "cell_type": "code",
   "execution_count": 36,
   "id": "656fa1f9-f532-4dd6-8fa4-88c6bb77a29d",
   "metadata": {},
   "outputs": [
    {
     "ename": "AttributeError",
     "evalue": "'car' object has no attribute 'make'",
     "output_type": "error",
     "traceback": [
      "\u001b[31m---------------------------------------------------------------------------\u001b[39m",
      "\u001b[31mAttributeError\u001b[39m                            Traceback (most recent call last)",
      "\u001b[36mCell\u001b[39m\u001b[36m \u001b[39m\u001b[32mIn[36]\u001b[39m\u001b[32m, line 1\u001b[39m\n\u001b[32m----> \u001b[39m\u001b[32m1\u001b[39m \u001b[43mc\u001b[49m\u001b[43m.\u001b[49m\u001b[43mmake\u001b[49m\n",
      "\u001b[31mAttributeError\u001b[39m: 'car' object has no attribute 'make'"
     ]
    }
   ],
   "source": [
    "c.make"
   ]
  },
  {
   "cell_type": "code",
   "execution_count": null,
   "id": "9b154ed1-f0c2-4046-b69b-067e41309648",
   "metadata": {},
   "outputs": [],
   "source": [
    "c.__make()"
   ]
  },
  {
   "cell_type": "code",
   "execution_count": null,
   "id": "9aee6cd3-1c30-4dd2-9ae2-a99cc819396a",
   "metadata": {},
   "outputs": [],
   "source": []
  },
  {
   "cell_type": "code",
   "execution_count": null,
   "id": "33f66862-3c2d-440e-baf6-6b077dd586a1",
   "metadata": {},
   "outputs": [],
   "source": [
    "c.getspeed()"
   ]
  },
  {
   "cell_type": "code",
   "execution_count": null,
   "id": "c0ec2895-4e9f-4bc4-a68b-31db02592bf9",
   "metadata": {},
   "outputs": [],
   "source": [
    "c.setspeed(20)"
   ]
  },
  {
   "cell_type": "code",
   "execution_count": null,
   "id": "b8513a6c-751a-460a-bae9-da78d2ea6114",
   "metadata": {},
   "outputs": [],
   "source": [
    "c.getspeed()"
   ]
  },
  {
   "cell_type": "code",
   "execution_count": 37,
   "id": "9d2de289-467c-4eae-87f4-8c4c237be879",
   "metadata": {},
   "outputs": [],
   "source": [
    "class Bank_account:\n",
    "    def __init__(self,balance):\n",
    "        self.__balance=balance\n",
    "    def deposite(self,amount):\n",
    "        self.__balance=self.__balance + amount\n",
    "    def withdrwa(self,withd):\n",
    "        self.__balance=self.__balance-withd\n",
    "    def show_balance(self):\n",
    "        return self.__balance"
   ]
  },
  {
   "cell_type": "code",
   "execution_count": 38,
   "id": "4bf9328a-bfc9-4110-97ed-c8417dfcbafe",
   "metadata": {},
   "outputs": [],
   "source": [
    "krishna=Bank_account(100000000)"
   ]
  },
  {
   "cell_type": "code",
   "execution_count": 39,
   "id": "b1007c85-d4ca-46f4-b847-267b7d5ba044",
   "metadata": {},
   "outputs": [],
   "source": [
    "krishna.withdrwa(30000000)"
   ]
  },
  {
   "cell_type": "code",
   "execution_count": 40,
   "id": "b724aa21-34f0-441b-9fca-f58d0e6b48dd",
   "metadata": {},
   "outputs": [
    {
     "data": {
      "text/plain": [
       "70000000"
      ]
     },
     "execution_count": 40,
     "metadata": {},
     "output_type": "execute_result"
    }
   ],
   "source": [
    "krishna.show_balance()"
   ]
  },
  {
   "cell_type": "code",
   "execution_count": null,
   "id": "3e26468b-87b4-4f97-b533-1087f38a305a",
   "metadata": {},
   "outputs": [],
   "source": [
    "#Inheritance"
   ]
  },
  {
   "cell_type": "code",
   "execution_count": null,
   "id": "8c46d6fe-2177-415d-a7a1-ca1b532f4078",
   "metadata": {},
   "outputs": [],
   "source": [
    "class parent:\n",
    "    def first(self):\n",
    "        print(\"this is. y first classs\")"
   ]
  },
  {
   "cell_type": "code",
   "execution_count": null,
   "id": "437c5558-ab61-4b70-85fa-364f23e07a29",
   "metadata": {},
   "outputs": [],
   "source": [
    "class child(parent): #inheritance--> invoking the method of another class\n",
    "    pass"
   ]
  },
  {
   "cell_type": "code",
   "execution_count": null,
   "id": "68c2e89a-40fb-4411-a469-1a1c73a9d59c",
   "metadata": {},
   "outputs": [],
   "source": [
    "child_object=child()"
   ]
  },
  {
   "cell_type": "code",
   "execution_count": null,
   "id": "2eeeb294-8963-4f89-94d0-dc2f45a114e7",
   "metadata": {},
   "outputs": [],
   "source": [
    "child_object.first()"
   ]
  },
  {
   "cell_type": "code",
   "execution_count": null,
   "id": "1b5b5f0a-71c3-46ba-a739-84f8c95d3018",
   "metadata": {},
   "outputs": [],
   "source": [
    "class first:\n",
    "    def one(self):\n",
    "        print(\"first\")"
   ]
  },
  {
   "cell_type": "code",
   "execution_count": null,
   "id": "15bf7ed4-29f0-452c-85ff-e396bdc65a86",
   "metadata": {},
   "outputs": [],
   "source": [
    "class second(first):\n",
    "    def two(self):\n",
    "        print(\"seconf\")"
   ]
  },
  {
   "cell_type": "code",
   "execution_count": null,
   "id": "7ac1f439-12f2-49e8-bbe8-d4288a6c1682",
   "metadata": {},
   "outputs": [],
   "source": [
    "class three(second):\n",
    "    pass"
   ]
  },
  {
   "cell_type": "code",
   "execution_count": null,
   "id": "44e8715e-4b72-4295-9f8c-6757af620cfa",
   "metadata": {},
   "outputs": [],
   "source": [
    "third_object=three()"
   ]
  },
  {
   "cell_type": "code",
   "execution_count": null,
   "id": "9ab1483a-9fc9-47f2-a33f-c229690da3c3",
   "metadata": {},
   "outputs": [],
   "source": [
    "third_object.one()"
   ]
  },
  {
   "cell_type": "code",
   "execution_count": null,
   "id": "5c5db4a8-0a25-4b30-b53e-6c1d2dc2ed47",
   "metadata": {},
   "outputs": [],
   "source": []
  }
 ],
 "metadata": {
  "kernelspec": {
   "display_name": "Python 3 (ipykernel)",
   "language": "python",
   "name": "python3"
  },
  "language_info": {
   "codemirror_mode": {
    "name": "ipython",
    "version": 3
   },
   "file_extension": ".py",
   "mimetype": "text/x-python",
   "name": "python",
   "nbconvert_exporter": "python",
   "pygments_lexer": "ipython3",
   "version": "3.13.3"
  }
 },
 "nbformat": 4,
 "nbformat_minor": 5
}
