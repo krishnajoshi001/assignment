{
 "cells": [
  {
   "cell_type": "code",
   "execution_count": 1,
   "id": "6615ea73-fcca-4518-bf7f-2ce7499bdf69",
   "metadata": {},
   "outputs": [],
   "source": [
    "#MAP"
   ]
  },
  {
   "cell_type": "code",
   "execution_count": 4,
   "id": "e9fa9763-40e2-4796-a94c-fa7ceb7ef31a",
   "metadata": {},
   "outputs": [],
   "source": [
    "l=[1,2,3,4]\n",
    "l1=[]"
   ]
  },
  {
   "cell_type": "code",
   "execution_count": 5,
   "id": "5fd87d94-84af-4afe-a069-c732d14cd896",
   "metadata": {},
   "outputs": [],
   "source": [
    "def squ(l):\n",
    "    for i in l:\n",
    "        l1.append(i**2)\n",
    "    return l1"
   ]
  },
  {
   "cell_type": "code",
   "execution_count": 6,
   "id": "1f851fa1-b957-4a54-95da-edee98c159cb",
   "metadata": {},
   "outputs": [
    {
     "data": {
      "text/plain": [
       "[1, 4, 9, 16]"
      ]
     },
     "execution_count": 6,
     "metadata": {},
     "output_type": "execute_result"
    }
   ],
   "source": [
    "squ(l)"
   ]
  },
  {
   "cell_type": "code",
   "execution_count": 7,
   "id": "4ced3d56-c384-4f21-a704-bed293c69866",
   "metadata": {},
   "outputs": [],
   "source": [
    "a=lambda x : x**2"
   ]
  },
  {
   "cell_type": "code",
   "execution_count": 8,
   "id": "c6433186-e848-459e-9abb-e35e5fbd04d1",
   "metadata": {},
   "outputs": [
    {
     "data": {
      "text/plain": [
       "16"
      ]
     },
     "execution_count": 8,
     "metadata": {},
     "output_type": "execute_result"
    }
   ],
   "source": [
    "a(4)"
   ]
  },
  {
   "cell_type": "code",
   "execution_count": 10,
   "id": "d3874978-ed93-47de-84c7-233d551f81b3",
   "metadata": {},
   "outputs": [
    {
     "data": {
      "text/plain": [
       "<map at 0x1058b1750>"
      ]
     },
     "execution_count": 10,
     "metadata": {},
     "output_type": "execute_result"
    }
   ],
   "source": [
    "map(a,l) #map object milega"
   ]
  },
  {
   "cell_type": "code",
   "execution_count": 11,
   "id": "6906370c-b08b-4750-a269-0b8c4f135b3a",
   "metadata": {},
   "outputs": [
    {
     "data": {
      "text/plain": [
       "[1, 4, 9, 16]"
      ]
     },
     "execution_count": 11,
     "metadata": {},
     "output_type": "execute_result"
    }
   ],
   "source": [
    "list(map(a,l))"
   ]
  },
  {
   "cell_type": "code",
   "execution_count": 12,
   "id": "5870fff9-b279-4974-ad7c-74beef4a7175",
   "metadata": {},
   "outputs": [],
   "source": [
    "#map takes 2 argument one jo function aap call karana cha rhe ho sare iterables k uper,dusra iterable"
   ]
  },
  {
   "cell_type": "code",
   "execution_count": 14,
   "id": "d1608075-c432-48a4-b0a7-7f94a6187c02",
   "metadata": {},
   "outputs": [
    {
     "data": {
      "text/plain": [
       "[9, 9, 9, 9]"
      ]
     },
     "execution_count": 14,
     "metadata": {},
     "output_type": "execute_result"
    }
   ],
   "source": [
    "l1=[1,2,3,4]\n",
    "l2=[8,7,6,5]\n",
    "list(map(lambda x,y : x+y ,l1,l2))"
   ]
  },
  {
   "cell_type": "code",
   "execution_count": 16,
   "id": "6a34a0b2-152c-4b1d-8e60-3f749571cf93",
   "metadata": {},
   "outputs": [
    {
     "data": {
      "text/plain": [
       "[1, 8, 27, 64]"
      ]
     },
     "execution_count": 16,
     "metadata": {},
     "output_type": "execute_result"
    }
   ],
   "source": [
    "l=[1,2,3,4]\n",
    "list(map(lambda x,y,z :x*y*z ,l,l,l))"
   ]
  },
  {
   "cell_type": "code",
   "execution_count": 18,
   "id": "d3f58679-7a81-4a5c-9473-60478e7b0bf9",
   "metadata": {},
   "outputs": [],
   "source": [
    "#REDUCE --> AVAILABLE NI HOGA HUME CALL KARNA PADEGA"
   ]
  },
  {
   "cell_type": "code",
   "execution_count": 20,
   "id": "8eba313c-ce95-4bf8-b474-e677df708fe6",
   "metadata": {},
   "outputs": [],
   "source": [
    "from functools import reduce"
   ]
  },
  {
   "cell_type": "code",
   "execution_count": 21,
   "id": "b15b3fe4-49ac-462a-a0fc-e94f86f1c817",
   "metadata": {},
   "outputs": [],
   "source": [
    "l=[1,2,3,5]"
   ]
  },
  {
   "cell_type": "code",
   "execution_count": 22,
   "id": "2ca0c1f7-9d10-4e52-a46e-d554321c5ef4",
   "metadata": {},
   "outputs": [],
   "source": [
    "#reduce means it will reduce the data and return a single entity for ex sum of a list"
   ]
  },
  {
   "cell_type": "code",
   "execution_count": 23,
   "id": "df63c948-c0d8-403b-9ee2-4c65aa370045",
   "metadata": {},
   "outputs": [
    {
     "data": {
      "text/plain": [
       "11"
      ]
     },
     "execution_count": 23,
     "metadata": {},
     "output_type": "execute_result"
    }
   ],
   "source": [
    "reduce(lambda x,y : x+y ,l)"
   ]
  },
  {
   "cell_type": "code",
   "execution_count": 26,
   "id": "d86f0d64-04cc-4b30-ab77-b70e57168944",
   "metadata": {},
   "outputs": [],
   "source": [
    "#internal architecture of reduce\n",
    "#1,2,3,4,5\n",
    "#1->x , 2->y\n",
    "#1+2->x , 3->y ......."
   ]
  },
  {
   "cell_type": "code",
   "execution_count": 27,
   "id": "d41cd1fd-bdbf-412e-8b69-98bc1fc3855e",
   "metadata": {},
   "outputs": [],
   "source": [
    "#we can introduce only 2 parrameter at a time not more than that"
   ]
  },
  {
   "cell_type": "code",
   "execution_count": 28,
   "id": "b29e4a7c-8b09-4d9e-a682-001cc8ae1de8",
   "metadata": {},
   "outputs": [
    {
     "data": {
      "text/plain": [
       "5"
      ]
     },
     "execution_count": 28,
     "metadata": {},
     "output_type": "execute_result"
    }
   ],
   "source": [
    "#max no.\n",
    "l=[1,2,3,4,5]\n",
    "reduce(lambda x,y : x if x>y else y,l)"
   ]
  },
  {
   "cell_type": "code",
   "execution_count": 29,
   "id": "49762ba4-5ab0-4d66-a3ae-f9654d65866d",
   "metadata": {},
   "outputs": [],
   "source": [
    "#FILTER -->KUCH CHEEZE FILTER KAREGA"
   ]
  },
  {
   "cell_type": "code",
   "execution_count": 35,
   "id": "e45248c3-3edb-47f8-88fa-f7a305f6f9f9",
   "metadata": {},
   "outputs": [
    {
     "data": {
      "text/plain": [
       "[2, 4]"
      ]
     },
     "execution_count": 35,
     "metadata": {},
     "output_type": "execute_result"
    }
   ],
   "source": [
    "list(filter(lambda x:   x%2==0 ,l))"
   ]
  },
  {
   "cell_type": "code",
   "execution_count": 36,
   "id": "136af917-c946-4e55-b747-58bec00d539e",
   "metadata": {},
   "outputs": [
    {
     "data": {
      "text/plain": [
       "[1, 2, 3]"
      ]
     },
     "execution_count": 36,
     "metadata": {},
     "output_type": "execute_result"
    }
   ],
   "source": [
    "l1=[1,2,3,-1,-1,-2,-2]\n",
    "list(filter(lambda x: x>0,l1))"
   ]
  },
  {
   "cell_type": "code",
   "execution_count": 37,
   "id": "eee08113-b778-4576-97ac-62800afc833d",
   "metadata": {},
   "outputs": [
    {
     "data": {
      "text/plain": [
       "['krishna']"
      ]
     },
     "execution_count": 37,
     "metadata": {},
     "output_type": "execute_result"
    }
   ],
   "source": [
    "s=['krishna','bhavya','kisley']\n",
    "list(filter(lambda x: len(x)>6,s))"
   ]
  },
  {
   "cell_type": "code",
   "execution_count": null,
   "id": "274e9022-faeb-4f33-a9df-c1efed1ef3be",
   "metadata": {},
   "outputs": [],
   "source": []
  }
 ],
 "metadata": {
  "kernelspec": {
   "display_name": "Python 3 (ipykernel)",
   "language": "python",
   "name": "python3"
  },
  "language_info": {
   "codemirror_mode": {
    "name": "ipython",
    "version": 3
   },
   "file_extension": ".py",
   "mimetype": "text/x-python",
   "name": "python",
   "nbconvert_exporter": "python",
   "pygments_lexer": "ipython3",
   "version": "3.13.3"
  }
 },
 "nbformat": 4,
 "nbformat_minor": 5
}
