{
 "cells": [
  {
   "cell_type": "code",
   "execution_count": 6,
   "id": "cd7502a8-9c01-46fb-bb0f-9b2d3b3a6d90",
   "metadata": {},
   "outputs": [],
   "source": [
    "def deco(func):    ##decoraters\n",
    "    def inner_dec():\n",
    "        print(\"start of function\")\n",
    "        func()\n",
    "        print(\"end of a function\")\n",
    "    return inner_dec"
   ]
  },
  {
   "cell_type": "code",
   "execution_count": 7,
   "id": "4b65ff56-8324-414e-8545-da0fc82e46ad",
   "metadata": {},
   "outputs": [],
   "source": [
    "@deco\n",
    "def add():\n",
    "    print(4+6)"
   ]
  },
  {
   "cell_type": "code",
   "execution_count": 8,
   "id": "42e1d260-d36b-4150-a203-4fc4b50c7585",
   "metadata": {},
   "outputs": [
    {
     "name": "stdout",
     "output_type": "stream",
     "text": [
      "start of function\n",
      "10\n",
      "end of a function\n"
     ]
    }
   ],
   "source": [
    "add()"
   ]
  },
  {
   "cell_type": "code",
   "execution_count": 9,
   "id": "b08343c0-ebcb-49df-8179-a8b6e4380678",
   "metadata": {},
   "outputs": [],
   "source": [
    "import time\n",
    "\n",
    "def timer(func):\n",
    "    def inner_tim():\n",
    "        start=time.time()\n",
    "        func()\n",
    "        end=time.time()\n",
    "        print(end-start)\n",
    "    return inner_tim\n",
    "        "
   ]
  },
  {
   "cell_type": "code",
   "execution_count": 10,
   "id": "ff618d70-d2fe-4863-a6b4-253a6abef080",
   "metadata": {},
   "outputs": [],
   "source": [
    "@timer\n",
    "def sub():\n",
    "    print(4000-1500)"
   ]
  },
  {
   "cell_type": "code",
   "execution_count": 11,
   "id": "fde85cf2-06a0-4c42-aa95-3c72ad4caedb",
   "metadata": {},
   "outputs": [
    {
     "name": "stdout",
     "output_type": "stream",
     "text": [
      "2500\n",
      "6.318092346191406e-05\n"
     ]
    }
   ],
   "source": [
    "sub ()"
   ]
  },
  {
   "cell_type": "code",
   "execution_count": 12,
   "id": "add2ca7e-1610-40d7-ab7c-049eeabe2208",
   "metadata": {},
   "outputs": [],
   "source": [
    "#class methods"
   ]
  },
  {
   "cell_type": "code",
   "execution_count": 13,
   "id": "81e9d22f-c31a-4ec1-8f01-753fb16b563c",
   "metadata": {},
   "outputs": [],
   "source": [
    "class artifcial:\n",
    "    def __init__(self,name,email):\n",
    "        self.name=name\n",
    "        self.email=email\n",
    "    def detail(self):\n",
    "        print(self.name,self.email)"
   ]
  },
  {
   "cell_type": "code",
   "execution_count": 14,
   "id": "ae569ea7-61be-4bd2-8774-f17e34f6c17a",
   "metadata": {},
   "outputs": [],
   "source": [
    "first=artifcial(\"krishna\",\"abc@123gmail.com\")"
   ]
  },
  {
   "cell_type": "code",
   "execution_count": 15,
   "id": "f01ade2c-ee47-48ee-9979-3dd6a99795e2",
   "metadata": {},
   "outputs": [
    {
     "data": {
      "text/plain": [
       "'krishna'"
      ]
     },
     "execution_count": 15,
     "metadata": {},
     "output_type": "execute_result"
    }
   ],
   "source": [
    "first.name"
   ]
  },
  {
   "cell_type": "code",
   "execution_count": 16,
   "id": "e0a58ad9-321b-4f09-b2ba-ce10a3b254c1",
   "metadata": {},
   "outputs": [],
   "source": [
    "#we can pass details without making object with the help of class methods"
   ]
  },
  {
   "cell_type": "code",
   "execution_count": 32,
   "id": "a932db8a-1dc5-49e4-885f-b9b243524497",
   "metadata": {},
   "outputs": [],
   "source": [
    "class art:\n",
    "    def __init__(self,name,email):\n",
    "        self.name=name\n",
    "        self.email=email\n",
    "    @classmethod\n",
    "    def det(cls,name,email): #cls is a pointer to the class \n",
    "        return cls(name,email)\n",
    "    def detail(self):\n",
    "        print(self.name,self.email)"
   ]
  },
  {
   "cell_type": "code",
   "execution_count": 33,
   "id": "284469eb-ec00-4d02-84e4-81bdd61d4cbe",
   "metadata": {},
   "outputs": [],
   "source": [
    "k=art.det(\"tapasya\",\"tapasya@gmail.com\")"
   ]
  },
  {
   "cell_type": "code",
   "execution_count": 34,
   "id": "81ba9d28-c330-4d77-9152-298d74c384b0",
   "metadata": {},
   "outputs": [
    {
     "data": {
      "text/plain": [
       "'tapasya'"
      ]
     },
     "execution_count": 34,
     "metadata": {},
     "output_type": "execute_result"
    }
   ],
   "source": [
    "k.name"
   ]
  },
  {
   "cell_type": "code",
   "execution_count": 35,
   "id": "b880eae5-2798-4db3-9c82-40a94cc097bf",
   "metadata": {},
   "outputs": [
    {
     "name": "stdout",
     "output_type": "stream",
     "text": [
      "tapasya tapasya@gmail.com\n"
     ]
    }
   ],
   "source": [
    "k.detail()"
   ]
  },
  {
   "cell_type": "code",
   "execution_count": 36,
   "id": "c19ce6d9-a4c5-45cf-ad75-daf5a7535814",
   "metadata": {},
   "outputs": [],
   "source": [
    "#how to make external function associated with class"
   ]
  },
  {
   "cell_type": "code",
   "execution_count": 37,
   "id": "794b85c8-6c16-4e88-b21e-cb86879de4e0",
   "metadata": {},
   "outputs": [],
   "source": [
    "def course_det(cls,course):\n",
    "    print(\"course is:\",course)"
   ]
  },
  {
   "cell_type": "code",
   "execution_count": 38,
   "id": "7166e860-4444-44a3-b23b-6e2d064a3b57",
   "metadata": {},
   "outputs": [],
   "source": [
    "art.course_det=classmethod(course_det)"
   ]
  },
  {
   "cell_type": "code",
   "execution_count": 39,
   "id": "f1de74ea-2a9a-4708-a413-0183fad8bdde",
   "metadata": {},
   "outputs": [
    {
     "name": "stdout",
     "output_type": "stream",
     "text": [
      "course is: AI\n"
     ]
    }
   ],
   "source": [
    "art.course_det(\"AI\")"
   ]
  },
  {
   "cell_type": "code",
   "execution_count": 40,
   "id": "efaa7edd-ed8a-441d-a9d1-db36c1c8eae1",
   "metadata": {},
   "outputs": [],
   "source": [
    "#del keyword is used to delete function"
   ]
  },
  {
   "cell_type": "code",
   "execution_count": 41,
   "id": "1cc7ef21-b91a-4cb8-a9df-cd55a8ec6d72",
   "metadata": {},
   "outputs": [],
   "source": [
    "#delattr is used to delete any thing inside class mainly attributes delattr(class name,attribute)\n"
   ]
  },
  {
   "cell_type": "code",
   "execution_count": 42,
   "id": "47d01245-a184-47d0-a75b-ffa17eadc1ff",
   "metadata": {},
   "outputs": [],
   "source": [
    "def birth(func):\n",
    "    def inner_bir():\n",
    "        print(\"today is his birthday\")\n",
    "        func()\n",
    "        print(\"happy birthday\")\n",
    "    return inner_bir"
   ]
  },
  {
   "cell_type": "code",
   "execution_count": 43,
   "id": "f1908433-0291-4dcc-9faf-a863d821b66f",
   "metadata": {},
   "outputs": [],
   "source": [
    "@birth\n",
    "@timing\n",
    "def kk():\n",
    "    print(\"krishna\")"
   ]
  },
  {
   "cell_type": "code",
   "execution_count": 44,
   "id": "91dc143c-3a33-45a3-a357-69883b89246c",
   "metadata": {},
   "outputs": [
    {
     "name": "stdout",
     "output_type": "stream",
     "text": [
      "today is his birthday\n",
      "krishna\n",
      "7.82012939453125e-05\n",
      "happy birthday\n"
     ]
    }
   ],
   "source": [
    "kk()"
   ]
  },
  {
   "cell_type": "raw",
   "id": "837af2c0-52f4-4aa5-910c-f5c19b86204a",
   "metadata": {},
   "source": [
    "import time\n",
    "\n",
    "def timing("
   ]
  },
  {
   "cell_type": "code",
   "execution_count": 45,
   "id": "b0d2d796-0776-4b90-9d53-853d46404ce2",
   "metadata": {},
   "outputs": [],
   "source": [
    "import time\n",
    "\n",
    "def timing(func):\n",
    "    def inner_ti():\n",
    "        start=time.time()\n",
    "        func()\n",
    "        end=time.time()\n",
    "        print(end-start)\n",
    "    return inner_ti"
   ]
  },
  {
   "cell_type": "code",
   "execution_count": 46,
   "id": "d3a2d920-2989-4b31-a28a-de3344c7fa7a",
   "metadata": {},
   "outputs": [],
   "source": [
    "#static method k pehle ek static method ka decorater and in static method we don't have to create pointer we canacces it \n",
    "#directly by class name"
   ]
  },
  {
   "cell_type": "code",
   "execution_count": 22,
   "id": "2a132fbb-4b9b-4152-8a7b-1a9da60d1fe7",
   "metadata": {},
   "outputs": [],
   "source": [
    "class pwskills:\n",
    "    def __init__(self,name,email):\n",
    "        self.name=name\n",
    "        self.email=email\n",
    "    @staticmethod\n",
    "    def mentor(list_mentor):\n",
    "        mentor=list_mentor\n",
    "        return mentor\n",
    "        \n",
    "    def details(self):\n",
    "        return self.name,self.email\n",
    "        "
   ]
  },
  {
   "cell_type": "code",
   "execution_count": 24,
   "id": "b33a4344-552a-4c60-8081-f60db242d816",
   "metadata": {},
   "outputs": [],
   "source": [
    "krishna=pwskills(\"krishna\",\"krishna26@gmai.com\")"
   ]
  },
  {
   "cell_type": "code",
   "execution_count": 25,
   "id": "f4dcee37-ceab-4d3d-b90a-b31c51f5ca5b",
   "metadata": {},
   "outputs": [
    {
     "data": {
      "text/plain": [
       "('krishna', 'krishna26@gmai.com')"
      ]
     },
     "execution_count": 25,
     "metadata": {},
     "output_type": "execute_result"
    }
   ],
   "source": [
    "krishna.details()"
   ]
  },
  {
   "cell_type": "code",
   "execution_count": 27,
   "id": "6494ebf0-7df1-439d-8e2a-91cd47135bfa",
   "metadata": {},
   "outputs": [
    {
     "data": {
      "text/plain": [
       "['dharma', 'tapasya']"
      ]
     },
     "execution_count": 27,
     "metadata": {},
     "output_type": "execute_result"
    }
   ],
   "source": [
    "pwskills.mentor([\"dharma\",\"tapasya\"])"
   ]
  },
  {
   "cell_type": "code",
   "execution_count": 79,
   "id": "157ee092-6351-41fa-b1ca-53369a1ebabe",
   "metadata": {},
   "outputs": [
    {
     "data": {
      "text/plain": [
       "('krishna', 'krishna26@gmai.com')"
      ]
     },
     "execution_count": 79,
     "metadata": {},
     "output_type": "execute_result"
    }
   ],
   "source": [
    "krishna.details()"
   ]
  },
  {
   "cell_type": "code",
   "execution_count": 81,
   "id": "65f0217a-cf22-476f-9962-7bcbbc4cc07e",
   "metadata": {},
   "outputs": [],
   "source": [
    "#magic function/dunder jis function k pehle aur baad dono m underscore"
   ]
  },
  {
   "cell_type": "code",
   "execution_count": 83,
   "id": "c7816134-4c91-459a-8424-9cf353168867",
   "metadata": {},
   "outputs": [
    {
     "data": {
      "text/plain": [
       "['__abs__',\n",
       " '__add__',\n",
       " '__and__',\n",
       " '__bool__',\n",
       " '__ceil__',\n",
       " '__class__',\n",
       " '__delattr__',\n",
       " '__dir__',\n",
       " '__divmod__',\n",
       " '__doc__',\n",
       " '__eq__',\n",
       " '__float__',\n",
       " '__floor__',\n",
       " '__floordiv__',\n",
       " '__format__',\n",
       " '__ge__',\n",
       " '__getattribute__',\n",
       " '__getnewargs__',\n",
       " '__getstate__',\n",
       " '__gt__',\n",
       " '__hash__',\n",
       " '__index__',\n",
       " '__init__',\n",
       " '__init_subclass__',\n",
       " '__int__',\n",
       " '__invert__',\n",
       " '__le__',\n",
       " '__lshift__',\n",
       " '__lt__',\n",
       " '__mod__',\n",
       " '__mul__',\n",
       " '__ne__',\n",
       " '__neg__',\n",
       " '__new__',\n",
       " '__or__',\n",
       " '__pos__',\n",
       " '__pow__',\n",
       " '__radd__',\n",
       " '__rand__',\n",
       " '__rdivmod__',\n",
       " '__reduce__',\n",
       " '__reduce_ex__',\n",
       " '__repr__',\n",
       " '__rfloordiv__',\n",
       " '__rlshift__',\n",
       " '__rmod__',\n",
       " '__rmul__',\n",
       " '__ror__',\n",
       " '__round__',\n",
       " '__rpow__',\n",
       " '__rrshift__',\n",
       " '__rshift__',\n",
       " '__rsub__',\n",
       " '__rtruediv__',\n",
       " '__rxor__',\n",
       " '__setattr__',\n",
       " '__sizeof__',\n",
       " '__str__',\n",
       " '__sub__',\n",
       " '__subclasshook__',\n",
       " '__truediv__',\n",
       " '__trunc__',\n",
       " '__xor__',\n",
       " 'as_integer_ratio',\n",
       " 'bit_count',\n",
       " 'bit_length',\n",
       " 'conjugate',\n",
       " 'denominator',\n",
       " 'from_bytes',\n",
       " 'imag',\n",
       " 'is_integer',\n",
       " 'numerator',\n",
       " 'real',\n",
       " 'to_bytes']"
      ]
     },
     "execution_count": 83,
     "metadata": {},
     "output_type": "execute_result"
    }
   ],
   "source": [
    "dir(int) #dir is use to check when we do something then what what functions are called"
   ]
  },
  {
   "cell_type": "code",
   "execution_count": 6,
   "id": "35e900aa-a95e-4d5f-b517-d929e4684fef",
   "metadata": {},
   "outputs": [],
   "source": [
    "class pwskills:\n",
    "    def __init__(self,price,course):\n",
    "        self.__course_price=price\n",
    "        self.course=course\n",
    "    @property\n",
    "    def course_pricesss(self):\n",
    "        return self.__course_price\n",
    "    @course_pricesss.setter\n",
    "    def price_set(self,price):\n",
    "        if(price>=3500):\n",
    "            pass\n",
    "        else:\n",
    "            self.__course_price=price\n",
    "        "
   ]
  },
  {
   "cell_type": "code",
   "execution_count": 7,
   "id": "af4bed8c-b811-452b-89d0-5fe1d19cc325",
   "metadata": {},
   "outputs": [],
   "source": [
    "pw=pwskills(3500,\"data science\")"
   ]
  },
  {
   "cell_type": "code",
   "execution_count": 9,
   "id": "b535edd1-19f1-4421-b032-f33999dfcd62",
   "metadata": {},
   "outputs": [
    {
     "data": {
      "text/plain": [
       "3500"
      ]
     },
     "execution_count": 9,
     "metadata": {},
     "output_type": "execute_result"
    }
   ],
   "source": [
    "pw.course_pricesss"
   ]
  },
  {
   "cell_type": "code",
   "execution_count": 13,
   "id": "cf05b240-b452-455b-8fba-f42c11d05b1c",
   "metadata": {},
   "outputs": [],
   "source": [
    "pw.price_set =300"
   ]
  },
  {
   "cell_type": "code",
   "execution_count": 14,
   "id": "f3d03c2c-8545-4db9-be09-a3d4f569bc82",
   "metadata": {},
   "outputs": [
    {
     "data": {
      "text/plain": [
       "300"
      ]
     },
     "execution_count": 14,
     "metadata": {},
     "output_type": "execute_result"
    }
   ],
   "source": [
    "pw.course_pricesss"
   ]
  },
  {
   "cell_type": "code",
   "execution_count": null,
   "id": "fd131602-c755-485a-b713-cb54c374b69e",
   "metadata": {},
   "outputs": [],
   "source": []
  }
 ],
 "metadata": {
  "kernelspec": {
   "display_name": "Python 3 (ipykernel)",
   "language": "python",
   "name": "python3"
  },
  "language_info": {
   "codemirror_mode": {
    "name": "ipython",
    "version": 3
   },
   "file_extension": ".py",
   "mimetype": "text/x-python",
   "name": "python",
   "nbconvert_exporter": "python",
   "pygments_lexer": "ipython3",
   "version": "3.13.3"
  }
 },
 "nbformat": 4,
 "nbformat_minor": 5
}
