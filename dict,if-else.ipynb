{
 "cells": [
  {
   "cell_type": "code",
   "execution_count": 1,
   "id": "413ac00a-e9b2-4cf5-be4a-186563adfb85",
   "metadata": {},
   "outputs": [],
   "source": [
    "#dictionary(key and value pair)"
   ]
  },
  {
   "cell_type": "code",
   "execution_count": 2,
   "id": "5a378445-0fc9-4b40-adb5-1a14239dc766",
   "metadata": {},
   "outputs": [],
   "source": [
    "d={}"
   ]
  },
  {
   "cell_type": "code",
   "execution_count": 3,
   "id": "2daed21a-62d5-4fb1-850f-38416798ddb6",
   "metadata": {},
   "outputs": [
    {
     "data": {
      "text/plain": [
       "dict"
      ]
     },
     "execution_count": 3,
     "metadata": {},
     "output_type": "execute_result"
    }
   ],
   "source": [
    "type(d)"
   ]
  },
  {
   "cell_type": "code",
   "execution_count": 4,
   "id": "b56c8768-d9e8-4241-a91b-63f65e288aa2",
   "metadata": {},
   "outputs": [],
   "source": [
    "d1={'key':\"krishna\"}"
   ]
  },
  {
   "cell_type": "code",
   "execution_count": 5,
   "id": "8a5f377b-77c9-48ee-9d07-651b26e385c8",
   "metadata": {},
   "outputs": [
    {
     "data": {
      "text/plain": [
       "{'key': 'krishna'}"
      ]
     },
     "execution_count": 5,
     "metadata": {},
     "output_type": "execute_result"
    }
   ],
   "source": [
    "d1"
   ]
  },
  {
   "cell_type": "code",
   "execution_count": 6,
   "id": "dfe98d45-830d-4d18-bbce-f312ad4b865a",
   "metadata": {},
   "outputs": [],
   "source": [
    "d2={'email':'knj@001gmaail.com' , 'mobile no.':8949485644}"
   ]
  },
  {
   "cell_type": "code",
   "execution_count": 7,
   "id": "7cf966d7-fda7-4fca-bc69-f0e6b656577b",
   "metadata": {},
   "outputs": [
    {
     "data": {
      "text/plain": [
       "{'email': 'knj@001gmaail.com', 'mobile no.': 8949485644}"
      ]
     },
     "execution_count": 7,
     "metadata": {},
     "output_type": "execute_result"
    }
   ],
   "source": [
    "d2"
   ]
  },
  {
   "cell_type": "code",
   "execution_count": 21,
   "id": "6a908275-dc63-4758-b2c3-f4343bc90247",
   "metadata": {},
   "outputs": [],
   "source": [
    "#key m special character ni le skte numeric ho skta h but we can take any special character inside string bool value allowed key should always be unique same hogi toh override ho jayega"
   ]
  },
  {
   "cell_type": "code",
   "execution_count": 15,
   "id": "dabf1be0-e655-4357-a11b-c297b96f8410",
   "metadata": {},
   "outputs": [],
   "source": [
    "d3={2:\"gangster\",'_wer':\"kk\",True:234}"
   ]
  },
  {
   "cell_type": "code",
   "execution_count": 16,
   "id": "af32008a-530f-4408-9ad1-a97b3fced7b3",
   "metadata": {},
   "outputs": [],
   "source": [
    "#how to get value from d3 we can find it by key no concept of indexing"
   ]
  },
  {
   "cell_type": "code",
   "execution_count": 17,
   "id": "72dc75ab-0d00-4e28-bb05-27e0289652a7",
   "metadata": {},
   "outputs": [
    {
     "data": {
      "text/plain": [
       "'gangster'"
      ]
     },
     "execution_count": 17,
     "metadata": {},
     "output_type": "execute_result"
    }
   ],
   "source": [
    "d3[2]"
   ]
  },
  {
   "cell_type": "code",
   "execution_count": 18,
   "id": "69e8a1cf-869a-4fa7-8101-d9f85afaba3b",
   "metadata": {},
   "outputs": [
    {
     "data": {
      "text/plain": [
       "'kk'"
      ]
     },
     "execution_count": 18,
     "metadata": {},
     "output_type": "execute_result"
    }
   ],
   "source": [
    "d3['_wer']"
   ]
  },
  {
   "cell_type": "code",
   "execution_count": 19,
   "id": "20c1a443-668a-47ec-b021-799f76f9acf4",
   "metadata": {},
   "outputs": [],
   "source": [
    "d4 = {'name':\"krishna\",'mail':\"knj@gmail.com\",'name':\"krishnakj\"}"
   ]
  },
  {
   "cell_type": "code",
   "execution_count": 20,
   "id": "d6cd59d5-ffe6-4a41-a186-2d5b8f55654c",
   "metadata": {},
   "outputs": [
    {
     "data": {
      "text/plain": [
       "'krishnakj'"
      ]
     },
     "execution_count": 20,
     "metadata": {},
     "output_type": "execute_result"
    }
   ],
   "source": [
    "d4['name']"
   ]
  },
  {
   "cell_type": "code",
   "execution_count": 27,
   "id": "1bd7229c-5164-458c-91f6-740043f9da8a",
   "metadata": {},
   "outputs": [],
   "source": [
    "d5={'courses':['web dev','data science'],'assignment':{1,2,3,4,4,555,6,7,7},'class timing':{'maths':\"shyam ko\",'data science':\"subh ko\"}}"
   ]
  },
  {
   "cell_type": "code",
   "execution_count": 25,
   "id": "e0ded058-c3f8-4b60-bdc2-99cefa210163",
   "metadata": {},
   "outputs": [
    {
     "data": {
      "text/plain": [
       "'data science'"
      ]
     },
     "execution_count": 25,
     "metadata": {},
     "output_type": "execute_result"
    }
   ],
   "source": [
    "d5['courses'][1]"
   ]
  },
  {
   "cell_type": "code",
   "execution_count": 28,
   "id": "3067a9ef-9088-4e6d-a311-52a9dbd31ffb",
   "metadata": {},
   "outputs": [
    {
     "data": {
      "text/plain": [
       "{'courses': ['web dev', 'data science'],\n",
       " 'assignment': {1, 2, 3, 4, 6, 7, 555},\n",
       " 'class timing': {'maths': 'shyam ko', 'data science': 'subh ko'}}"
      ]
     },
     "execution_count": 28,
     "metadata": {},
     "output_type": "execute_result"
    }
   ],
   "source": [
    "d5"
   ]
  },
  {
   "cell_type": "code",
   "execution_count": 29,
   "id": "a365d836-0883-40f3-a6a5-9885cbb084a8",
   "metadata": {},
   "outputs": [],
   "source": [
    "#how to add key inside dictionary"
   ]
  },
  {
   "cell_type": "code",
   "execution_count": 30,
   "id": "e75d75d5-d665-4718-bf3a-d3dd4c663a81",
   "metadata": {},
   "outputs": [],
   "source": [
    "d5['mentor']=[\"sudhansu\",\"krishna\",\"anurag\"]"
   ]
  },
  {
   "cell_type": "code",
   "execution_count": 31,
   "id": "95d3ad93-f2fc-4746-be7e-200cd813ec32",
   "metadata": {},
   "outputs": [
    {
     "data": {
      "text/plain": [
       "{'courses': ['web dev', 'data science'],\n",
       " 'assignment': {1, 2, 3, 4, 6, 7, 555},\n",
       " 'class timing': {'maths': 'shyam ko', 'data science': 'subh ko'},\n",
       " 'mentor': ['sudhansu', 'krishna', 'anurag']}"
      ]
     },
     "execution_count": 31,
     "metadata": {},
     "output_type": "execute_result"
    }
   ],
   "source": [
    "d5"
   ]
  },
  {
   "cell_type": "code",
   "execution_count": 32,
   "id": "9c9be39c-ce03-455b-8907-5592ab7d3e3f",
   "metadata": {},
   "outputs": [],
   "source": [
    "#how to delete any key value pair from dict"
   ]
  },
  {
   "cell_type": "code",
   "execution_count": 33,
   "id": "2bba1834-6ae4-40fc-9fff-e0e61b088a04",
   "metadata": {},
   "outputs": [],
   "source": [
    "del d5['assignment']"
   ]
  },
  {
   "cell_type": "code",
   "execution_count": 34,
   "id": "e5af8f61-6248-44e1-8a08-0b67b379c234",
   "metadata": {},
   "outputs": [
    {
     "data": {
      "text/plain": [
       "{'courses': ['web dev', 'data science'],\n",
       " 'class timing': {'maths': 'shyam ko', 'data science': 'subh ko'},\n",
       " 'mentor': ['sudhansu', 'krishna', 'anurag']}"
      ]
     },
     "execution_count": 34,
     "metadata": {},
     "output_type": "execute_result"
    }
   ],
   "source": [
    "d5"
   ]
  },
  {
   "cell_type": "code",
   "execution_count": 35,
   "id": "42ef4fe5-bc46-4af4-9320-977d83a6916f",
   "metadata": {},
   "outputs": [
    {
     "data": {
      "text/plain": [
       "dict_keys(['courses', 'class timing', 'mentor'])"
      ]
     },
     "execution_count": 35,
     "metadata": {},
     "output_type": "execute_result"
    }
   ],
   "source": [
    "d5.keys()"
   ]
  },
  {
   "cell_type": "code",
   "execution_count": 37,
   "id": "7e29e5d0-188d-4feb-a3de-45977062a77b",
   "metadata": {},
   "outputs": [
    {
     "data": {
      "text/plain": [
       "['courses', 'class timing', 'mentor']"
      ]
     },
     "execution_count": 37,
     "metadata": {},
     "output_type": "execute_result"
    }
   ],
   "source": [
    "list(d5.keys())"
   ]
  },
  {
   "cell_type": "code",
   "execution_count": 38,
   "id": "f5a59a04-c5f2-42c2-822b-9ed0db1e5ef0",
   "metadata": {},
   "outputs": [
    {
     "data": {
      "text/plain": [
       "dict_values([['web dev', 'data science'], {'maths': 'shyam ko', 'data science': 'subh ko'}, ['sudhansu', 'krishna', 'anurag']])"
      ]
     },
     "execution_count": 38,
     "metadata": {},
     "output_type": "execute_result"
    }
   ],
   "source": [
    "d5.values()"
   ]
  },
  {
   "cell_type": "code",
   "execution_count": 39,
   "id": "23c23357-2248-4323-9870-d89727e8cc63",
   "metadata": {},
   "outputs": [
    {
     "data": {
      "text/plain": [
       "dict_items([('courses', ['web dev', 'data science']), ('class timing', {'maths': 'shyam ko', 'data science': 'subh ko'}), ('mentor', ['sudhansu', 'krishna', 'anurag'])])"
      ]
     },
     "execution_count": 39,
     "metadata": {},
     "output_type": "execute_result"
    }
   ],
   "source": [
    "d5.items()"
   ]
  },
  {
   "cell_type": "code",
   "execution_count": 40,
   "id": "13897966-9eec-45b0-ac49-50a5fed320ef",
   "metadata": {},
   "outputs": [
    {
     "data": {
      "text/plain": [
       "[('courses', ['web dev', 'data science']),\n",
       " ('class timing', {'maths': 'shyam ko', 'data science': 'subh ko'}),\n",
       " ('mentor', ['sudhansu', 'krishna', 'anurag'])]"
      ]
     },
     "execution_count": 40,
     "metadata": {},
     "output_type": "execute_result"
    }
   ],
   "source": [
    "list(d5.items())"
   ]
  },
  {
   "cell_type": "code",
   "execution_count": 41,
   "id": "61765add-b559-4aa9-84d8-bd3a8b25ec07",
   "metadata": {},
   "outputs": [
    {
     "data": {
      "text/plain": [
       "['sudhansu', 'krishna', 'anurag']"
      ]
     },
     "execution_count": 41,
     "metadata": {},
     "output_type": "execute_result"
    }
   ],
   "source": [
    "d5.pop('mentor')"
   ]
  },
  {
   "cell_type": "code",
   "execution_count": 42,
   "id": "eb36848f-2b1d-489a-90ef-cf47c2824b3c",
   "metadata": {},
   "outputs": [
    {
     "data": {
      "text/plain": [
       "{'courses': ['web dev', 'data science'],\n",
       " 'class timing': {'maths': 'shyam ko', 'data science': 'subh ko'}}"
      ]
     },
     "execution_count": 42,
     "metadata": {},
     "output_type": "execute_result"
    }
   ],
   "source": [
    "d5"
   ]
  },
  {
   "cell_type": "code",
   "execution_count": 43,
   "id": "f46bbc6f-ad3e-4584-bef8-50078509573b",
   "metadata": {},
   "outputs": [],
   "source": [
    "#what is indentation(separation of code used in java)"
   ]
  },
  {
   "cell_type": "code",
   "execution_count": 49,
   "id": "b27b7633-6200-40c1-8e38-a2fbf336aea3",
   "metadata": {},
   "outputs": [
    {
     "name": "stdin",
     "output_type": "stream",
     "text": [
      "enter your marks: 45\n"
     ]
    }
   ],
   "source": [
    "marks=int(input(\"enter your marks:\")) #type casting"
   ]
  },
  {
   "cell_type": "code",
   "execution_count": 50,
   "id": "66ff8d36-dbff-4eb8-80aa-0a9ed3003cdd",
   "metadata": {},
   "outputs": [
    {
     "name": "stdout",
     "output_type": "stream",
     "text": [
      "you are a poor student\n"
     ]
    }
   ],
   "source": [
    "marks=int(input(\"enter your marks:\"))\n",
    "if marks >= 80:\n",
    "    print(\"you will be a good student\")\n",
    "elif marks >=65 and marks<80 :\n",
    "    print(\"you will be a struggling student\")\n",
    "elif marks >= 50 and marks <65:\n",
    "    print(\"you are an average student\")\n",
    "else :\n",
    "    print(\"you are a poor student\")"
   ]
  },
  {
   "cell_type": "code",
   "execution_count": 46,
   "id": "7f075ef2-3416-46e7-ac0d-76ed62488396",
   "metadata": {},
   "outputs": [],
   "source": [
    "#how to take input from the user(PROBLEM WITH THE INPUT IS THAT VO HAR INPUT KO STRING M COVERT KARKE STORE KARTA H)"
   ]
  },
  {
   "cell_type": "code",
   "execution_count": 47,
   "id": "23da6776-0c8a-4f98-933b-e64ef889b48a",
   "metadata": {},
   "outputs": [
    {
     "name": "stdin",
     "output_type": "stream",
     "text": [
      "enter your name krishna\n"
     ]
    }
   ],
   "source": [
    "name =input(\"enter your name\")"
   ]
  },
  {
   "cell_type": "code",
   "execution_count": 48,
   "id": "5b5dcf0f-2c4c-4e57-9883-2827f4e0cc8a",
   "metadata": {},
   "outputs": [
    {
     "data": {
      "text/plain": [
       "'krishna'"
      ]
     },
     "execution_count": 48,
     "metadata": {},
     "output_type": "execute_result"
    }
   ],
   "source": [
    "name"
   ]
  },
  {
   "cell_type": "code",
   "execution_count": 54,
   "id": "90e76cf9-4c47-4f16-8b42-fa5129b9988b",
   "metadata": {},
   "outputs": [
    {
     "name": "stdin",
     "output_type": "stream",
     "text": [
      "enter the price of a product 30000\n"
     ]
    },
    {
     "name": "stdout",
     "output_type": "stream",
     "text": [
      "i will not purchase it\n",
      "it is too much\n"
     ]
    }
   ],
   "source": [
    "price=int(input(\"enter the price of a product\"))\n",
    "if price > 1000 :\n",
    "    print(\"i will not purchase it\")\n",
    "    if price > 5000 :\n",
    "        print(\"it is too much\")\n",
    "    elif price < 2000:\n",
    "        print(\"it's ohk\")\n",
    "    else :\n",
    "        print(\"go to hell\")\n",
    "elif price < 1000 :\n",
    "    print(\"i will purchase it\")\n",
    "else :\n",
    "    print(\"not intrested\")\n"
   ]
  },
  {
   "cell_type": "code",
   "execution_count": 57,
   "id": "5cc70f0d-7892-4bc2-ba3e-5c43dbe413bf",
   "metadata": {},
   "outputs": [
    {
     "name": "stdout",
     "output_type": "stream",
     "text": [
      "1\n",
      "2\n",
      "3\n",
      "4\n",
      "5\n",
      "6\n",
      "7\n",
      "8\n"
     ]
    }
   ],
   "source": [
    "l=[1,2,3,4,5,6,7,8]\n",
    "for i in l : #l me se data nikal k ose i m rakh rhe h \n",
    "    print(i)"
   ]
  },
  {
   "cell_type": "code",
   "execution_count": 58,
   "id": "2d815a9e-33f3-4559-b02e-2c4525095776",
   "metadata": {},
   "outputs": [
    {
     "data": {
      "text/plain": [
       "[2, 3, 4, 5, 6, 7, 8, 9]"
      ]
     },
     "execution_count": 58,
     "metadata": {},
     "output_type": "execute_result"
    }
   ],
   "source": [
    "l=[1,2,3,4,5,6,7,8]\n",
    "l1=[]\n",
    "for i in l : #l me se data nikal k ose i m rakh rhe h \n",
    "    l1.append(i+1)\n",
    "l1"
   ]
  },
  {
   "cell_type": "code",
   "execution_count": 60,
   "id": "8b7a3b24-5375-47b8-b414-4a377cc02023",
   "metadata": {},
   "outputs": [
    {
     "data": {
      "text/plain": [
       "['SUDH', 'KRISH', 'ANURAG']"
      ]
     },
     "execution_count": 60,
     "metadata": {},
     "output_type": "execute_result"
    }
   ],
   "source": [
    "l3=[\"sudh\",\"krish\",\"anurag\"]\n",
    "l4=[]\n",
    "for i in l3 :\n",
    "    l4.append(i.upper())\n",
    "l4"
   ]
  },
  {
   "cell_type": "code",
   "execution_count": 67,
   "id": "1c3d4b91-279b-44b0-a337-6e7f4f4381ea",
   "metadata": {},
   "outputs": [
    {
     "data": {
      "text/plain": [
       "([1, 2, 3, 4, 5, 6, 4.5], ['sudh', 'krish'])"
      ]
     },
     "execution_count": 67,
     "metadata": {},
     "output_type": "execute_result"
    }
   ],
   "source": [
    "l5=[1,2,3,4,5,\"sudh\",6,4.5,\"krish\"]\n",
    "l6=[]\n",
    "l7=[]\n",
    "for i in l5 :\n",
    "    if type(i) == int or type(i) == float :\n",
    "        l6.append(i)\n",
    "    else :\n",
    "        l7.append(i)\n",
    "l6,l7"
   ]
  },
  {
   "cell_type": "code",
   "execution_count": null,
   "id": "6a411504-59b3-437e-b4e6-7818507ce0b9",
   "metadata": {},
   "outputs": [],
   "source": []
  }
 ],
 "metadata": {
  "kernelspec": {
   "display_name": "Python 3 (ipykernel)",
   "language": "python",
   "name": "python3"
  },
  "language_info": {
   "codemirror_mode": {
    "name": "ipython",
    "version": 3
   },
   "file_extension": ".py",
   "mimetype": "text/x-python",
   "name": "python",
   "nbconvert_exporter": "python",
   "pygments_lexer": "ipython3",
   "version": "3.13.3"
  }
 },
 "nbformat": 4,
 "nbformat_minor": 5
}
