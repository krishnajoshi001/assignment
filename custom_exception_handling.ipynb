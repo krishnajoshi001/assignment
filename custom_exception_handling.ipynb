{
 "cells": [
  {
   "cell_type": "code",
   "execution_count": 1,
   "id": "07edbf6e-fbbe-4c05-b4ab-bbf7f39124af",
   "metadata": {},
   "outputs": [],
   "source": [
    "#we will use custom exception handling for those errors for which tere is no solution in exception class"
   ]
  },
  {
   "cell_type": "code",
   "execution_count": 2,
   "id": "e7851d06-edda-4dc3-8e42-529330ff5283",
   "metadata": {},
   "outputs": [
    {
     "name": "stdin",
     "output_type": "stream",
     "text": [
      "enter the age: 123\n"
     ]
    }
   ],
   "source": [
    "age=int(input(\"enter the age:\"))"
   ]
  },
  {
   "cell_type": "code",
   "execution_count": 10,
   "id": "682f5462-4c17-4ccc-a2cf-a1ac1492f4c0",
   "metadata": {},
   "outputs": [],
   "source": [
    "class validateage(Exception): #exception class inherited\n",
    "\n",
    "    def __init__(self,msg):\n",
    "        self.msg=msg"
   ]
  },
  {
   "cell_type": "code",
   "execution_count": 11,
   "id": "c283d9bf-2d75-4f2c-9c98-b0663f469ca9",
   "metadata": {},
   "outputs": [],
   "source": [
    "def validateeage(age):\n",
    "    if age < 0:\n",
    "        raise validateage(\"entered age is negative\")\n",
    "    elif age > 200:\n",
    "        raise validateage(\"entered age is very very high\")\n",
    "    else:\n",
    "        print(\"age is valid\")"
   ]
  },
  {
   "cell_type": "code",
   "execution_count": 13,
   "id": "90d22dd5-52b4-4b2d-ba3f-70081ef0957e",
   "metadata": {},
   "outputs": [
    {
     "name": "stdin",
     "output_type": "stream",
     "text": [
      "enter the age: -29\n"
     ]
    },
    {
     "name": "stdout",
     "output_type": "stream",
     "text": [
      "erroe is: entered age is negative\n"
     ]
    }
   ],
   "source": [
    "try:\n",
    "    age=int(input(\"enter the age:\"))\n",
    "    validateeage(age)\n",
    "except validateage as e: #here custom exception is used\n",
    "    print(\"erroe is:\",e)"
   ]
  },
  {
   "cell_type": "code",
   "execution_count": 14,
   "id": "63e82017-a4e9-4dfe-9376-822d80944043",
   "metadata": {},
   "outputs": [
    {
     "name": "stdout",
     "output_type": "stream",
     "text": [
      "division by zero\n"
     ]
    }
   ],
   "source": [
    "try:\n",
    "    a=10/0\n",
    "except ZeroDivisionError as e: #zerodivisionerror class in exception handling\n",
    "    print(e)"
   ]
  },
  {
   "cell_type": "code",
   "execution_count": 15,
   "id": "90db77e5-edab-4175-94ef-737da41bc78d",
   "metadata": {},
   "outputs": [
    {
     "name": "stdout",
     "output_type": "stream",
     "text": [
      "invalid literal for int() with base 10: 'krishna'\n"
     ]
    }
   ],
   "source": [
    "try:\n",
    "    int(\"krishna\")\n",
    "except (ValueError,TypeError) as e:\n",
    "    print(e)"
   ]
  },
  {
   "cell_type": "code",
   "execution_count": 16,
   "id": "1061befd-63eb-4458-801b-73c4fe57b762",
   "metadata": {},
   "outputs": [
    {
     "name": "stdout",
     "output_type": "stream",
     "text": [
      "fuck off\n"
     ]
    }
   ],
   "source": [
    "try:\n",
    "    int(\"krishna\")\n",
    "except:\n",
    "    print(\"fuck off\")"
   ]
  },
  {
   "cell_type": "code",
   "execution_count": null,
   "id": "6a00c7a8-5116-4dbd-a693-66bd99d60ee9",
   "metadata": {},
   "outputs": [],
   "source": []
  }
 ],
 "metadata": {
  "kernelspec": {
   "display_name": "Python 3 (ipykernel)",
   "language": "python",
   "name": "python3"
  },
  "language_info": {
   "codemirror_mode": {
    "name": "ipython",
    "version": 3
   },
   "file_extension": ".py",
   "mimetype": "text/x-python",
   "name": "python",
   "nbconvert_exporter": "python",
   "pygments_lexer": "ipython3",
   "version": "3.13.3"
  }
 },
 "nbformat": 4,
 "nbformat_minor": 5
}
