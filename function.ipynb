{
 "cells": [
  {
   "cell_type": "code",
   "execution_count": 1,
   "id": "6878d328-e018-4c8c-9601-a02a78e7d47a",
   "metadata": {},
   "outputs": [],
   "source": [
    "def test():\n",
    "    print(\"function topic started\")"
   ]
  },
  {
   "cell_type": "code",
   "execution_count": 2,
   "id": "50b75cf5-39dd-4f69-b5f3-236922ec6cf1",
   "metadata": {},
   "outputs": [
    {
     "name": "stdout",
     "output_type": "stream",
     "text": [
      "function topic started\n"
     ]
    }
   ],
   "source": [
    "test()"
   ]
  },
  {
   "cell_type": "code",
   "execution_count": 3,
   "id": "1e82239a-ff77-43fc-84b1-459c2555d4c9",
   "metadata": {},
   "outputs": [
    {
     "name": "stdout",
     "output_type": "stream",
     "text": [
      "function topic started\n"
     ]
    },
    {
     "ename": "TypeError",
     "evalue": "unsupported operand type(s) for +: 'NoneType' and 'str'",
     "output_type": "error",
     "traceback": [
      "\u001b[31m---------------------------------------------------------------------------\u001b[39m",
      "\u001b[31mTypeError\u001b[39m                                 Traceback (most recent call last)",
      "\u001b[36mCell\u001b[39m\u001b[36m \u001b[39m\u001b[32mIn[3]\u001b[39m\u001b[32m, line 1\u001b[39m\n\u001b[32m----> \u001b[39m\u001b[32m1\u001b[39m \u001b[43mtest\u001b[49m\u001b[43m(\u001b[49m\u001b[43m)\u001b[49m\u001b[43m \u001b[49m\u001b[43m+\u001b[49m\u001b[43m \u001b[49m\u001b[33;43m\"\u001b[39;49m\u001b[33;43mkrishna\u001b[39;49m\u001b[33;43m\"\u001b[39;49m\n",
      "\u001b[31mTypeError\u001b[39m: unsupported operand type(s) for +: 'NoneType' and 'str'"
     ]
    }
   ],
   "source": [
    "test() + \"krishna\""
   ]
  },
  {
   "cell_type": "code",
   "execution_count": 4,
   "id": "ac5c9d5c-8e6b-4919-8c44-2d3950cf2662",
   "metadata": {},
   "outputs": [],
   "source": [
    "def test1():\n",
    "    return \"begining with function \" "
   ]
  },
  {
   "cell_type": "code",
   "execution_count": 5,
   "id": "127a2d3b-7884-44f1-b024-5db6ced49332",
   "metadata": {},
   "outputs": [
    {
     "data": {
      "text/plain": [
       "'begining with function krishna'"
      ]
     },
     "execution_count": 5,
     "metadata": {},
     "output_type": "execute_result"
    }
   ],
   "source": [
    "test1()+\"krishna\""
   ]
  },
  {
   "cell_type": "code",
   "execution_count": 6,
   "id": "a9d8eb31-8c9c-44ae-bb99-5d9904d9b2f1",
   "metadata": {},
   "outputs": [],
   "source": [
    "#variable declaration in same line\n",
    "a,b=1,4"
   ]
  },
  {
   "cell_type": "code",
   "execution_count": 7,
   "id": "56fa4d54-526e-4142-8c12-c30ad39f8f0b",
   "metadata": {},
   "outputs": [
    {
     "data": {
      "text/plain": [
       "1"
      ]
     },
     "execution_count": 7,
     "metadata": {},
     "output_type": "execute_result"
    }
   ],
   "source": [
    "a"
   ]
  },
  {
   "cell_type": "code",
   "execution_count": 8,
   "id": "5fdc1711-dba4-45ae-9888-376a12063780",
   "metadata": {},
   "outputs": [
    {
     "data": {
      "text/plain": [
       "4"
      ]
     },
     "execution_count": 8,
     "metadata": {},
     "output_type": "execute_result"
    }
   ],
   "source": [
    "b"
   ]
  },
  {
   "cell_type": "code",
   "execution_count": 10,
   "id": "91a71ba9-57dc-4c95-8998-779962f0b9a9",
   "metadata": {},
   "outputs": [],
   "source": [
    "def test2():\n",
    "    return \"krishna\" ,1"
   ]
  },
  {
   "cell_type": "markdown",
   "id": "c928d770-24ae-49d5-9532-1da4fad826eb",
   "metadata": {},
   "source": [
    "test2()"
   ]
  },
  {
   "cell_type": "code",
   "execution_count": 11,
   "id": "bf43d55a-75f9-4b03-b53c-b392bb787875",
   "metadata": {},
   "outputs": [],
   "source": [
    "l=test2()"
   ]
  },
  {
   "cell_type": "code",
   "execution_count": 12,
   "id": "3a91c1e8-ecef-4784-99bb-634e272bfddc",
   "metadata": {},
   "outputs": [
    {
     "data": {
      "text/plain": [
       "('krishna', 1)"
      ]
     },
     "execution_count": 12,
     "metadata": {},
     "output_type": "execute_result"
    }
   ],
   "source": [
    "l"
   ]
  },
  {
   "cell_type": "code",
   "execution_count": 15,
   "id": "54c2816e-229e-4636-b2b2-e74b60d5010e",
   "metadata": {},
   "outputs": [],
   "source": [
    "#parameterize function\n",
    "def test3(a,b,c):\n",
    "    if a>b and a>c:\n",
    "        return a\n",
    "    elif b>c and b>a:\n",
    "        return b\n",
    "    else :\n",
    "        return c"
   ]
  },
  {
   "cell_type": "code",
   "execution_count": 16,
   "id": "f140d085-4714-44d3-bcfb-d26f5781ce9c",
   "metadata": {},
   "outputs": [
    {
     "name": "stdout",
     "output_type": "stream",
     "text": [
      "3\n"
     ]
    }
   ],
   "source": [
    "x=test3(1,2,3)\n",
    "print(x)"
   ]
  },
  {
   "cell_type": "code",
   "execution_count": 26,
   "id": "69aea8be-af21-43f1-9ffd-7df2929222a6",
   "metadata": {},
   "outputs": [],
   "source": [
    "l=[1,2,3,4,5,3.4,\"krishna\",[5,6,7,8]]\n",
    "l1=[]\n",
    "def intger(l):\n",
    "    for i in l:\n",
    "        if type(i) == list:\n",
    "            for j in i:\n",
    "                if type(j) == int or type(j) == float:\n",
    "                    l1.append(j)\n",
    "        elif type(i) == int or type(i)==float:\n",
    "            l1.append(i)\n",
    "    return l1"
   ]
  },
  {
   "cell_type": "code",
   "execution_count": 27,
   "id": "4d1a8740-5b74-4f3d-b0c1-0a97980a6bd9",
   "metadata": {},
   "outputs": [
    {
     "data": {
      "text/plain": [
       "[]"
      ]
     },
     "execution_count": 27,
     "metadata": {},
     "output_type": "execute_result"
    }
   ],
   "source": [
    "l1"
   ]
  },
  {
   "cell_type": "code",
   "execution_count": 28,
   "id": "19f38056-4b74-4d9e-9e6f-4dba343d2d88",
   "metadata": {},
   "outputs": [
    {
     "data": {
      "text/plain": [
       "[1, 2, 3, 4, 5, 3.4, 5, 6, 7, 8]"
      ]
     },
     "execution_count": 28,
     "metadata": {},
     "output_type": "execute_result"
    }
   ],
   "source": [
    "intger(l)"
   ]
  },
  {
   "cell_type": "code",
   "execution_count": 34,
   "id": "544c6bd1-3d42-4f5b-ab57-2cda0a98253d",
   "metadata": {},
   "outputs": [],
   "source": [
    "#making parameter dyanamic \n",
    "def dyn(*args):\n",
    "    return args"
   ]
  },
  {
   "cell_type": "code",
   "execution_count": 35,
   "id": "e7aa5d1b-d693-4bef-aa7b-b97e5da86209",
   "metadata": {},
   "outputs": [
    {
     "data": {
      "text/plain": [
       "(1, 2, 3, 4, 5)"
      ]
     },
     "execution_count": 35,
     "metadata": {},
     "output_type": "execute_result"
    }
   ],
   "source": [
    "dyn(1,2,3,4,5) #returning parameter directly"
   ]
  },
  {
   "cell_type": "code",
   "execution_count": 43,
   "id": "0be709e4-fff5-42de-b76d-dea6733ed79f",
   "metadata": {},
   "outputs": [],
   "source": [
    "def dyns(*s):\n",
    "    return sum(s)"
   ]
  },
  {
   "cell_type": "code",
   "execution_count": 44,
   "id": "75c9ab81-2721-48f8-83fa-b551b302b551",
   "metadata": {},
   "outputs": [
    {
     "ename": "SyntaxError",
     "evalue": "invalid syntax (909590030.py, line 1)",
     "output_type": "error",
     "traceback": [
      "  \u001b[36mCell\u001b[39m\u001b[36m \u001b[39m\u001b[32mIn[44]\u001b[39m\u001b[32m, line 1\u001b[39m\n\u001b[31m    \u001b[39m\u001b[31mdyn(for i in range(10))\u001b[39m\n        ^\n\u001b[31mSyntaxError\u001b[39m\u001b[31m:\u001b[39m invalid syntax\n"
     ]
    }
   ],
   "source": [
    "dyn(for i in range(10))"
   ]
  },
  {
   "cell_type": "code",
   "execution_count": 45,
   "id": "a463312f-f519-4b36-8462-cf6b1e3fa8e4",
   "metadata": {},
   "outputs": [
    {
     "data": {
      "text/plain": [
       "10"
      ]
     },
     "execution_count": 45,
     "metadata": {},
     "output_type": "execute_result"
    }
   ],
   "source": [
    "dyns(1,2,3,4) #giving sum of all the parameters"
   ]
  },
  {
   "cell_type": "code",
   "execution_count": 1,
   "id": "ac9edbff-2b85-4626-846d-8af2ded0dfe8",
   "metadata": {},
   "outputs": [],
   "source": [
    "#for taking arguments in key value pair\n",
    "def keyva(**kwargs):\n",
    "    return kwargs"
   ]
  },
  {
   "cell_type": "code",
   "execution_count": 2,
   "id": "ff7ddd9a-509d-4475-9448-31fab95fca42",
   "metadata": {},
   "outputs": [
    {
     "data": {
      "text/plain": [
       "<function __main__.keyva(**kwargs)>"
      ]
     },
     "execution_count": 2,
     "metadata": {},
     "output_type": "execute_result"
    }
   ],
   "source": [
    "keyva"
   ]
  },
  {
   "cell_type": "code",
   "execution_count": 3,
   "id": "d5793c22-7912-43cd-95d4-aa5863805599",
   "metadata": {},
   "outputs": [
    {
     "data": {
      "text/plain": [
       "{}"
      ]
     },
     "execution_count": 3,
     "metadata": {},
     "output_type": "execute_result"
    }
   ],
   "source": [
    "keyva()"
   ]
  },
  {
   "cell_type": "code",
   "execution_count": 6,
   "id": "10b52959-e15e-4c1d-b491-d897fbd81897",
   "metadata": {},
   "outputs": [
    {
     "data": {
      "text/plain": [
       "{'name': 'krishna', 'mobile': 8949485644}"
      ]
     },
     "execution_count": 6,
     "metadata": {},
     "output_type": "execute_result"
    }
   ],
   "source": [
    "keyva(name='krishna',mobile=8949485644)"
   ]
  },
  {
   "cell_type": "code",
   "execution_count": 7,
   "id": "bdaf0bc1-1d6e-40e3-bddb-a1646e43f720",
   "metadata": {},
   "outputs": [],
   "source": [
    "#GENERATOR FUNCTION-->memory usage\n",
    "def fibon(n):\n",
    "    a,b=0,1\n",
    "    for i in range(10):\n",
    "        yield a #this is used for generator function a ki value de deta h ek baar m generate karne ki jgh request pe genrate karta h\n",
    "        a,b=b,a+b"
   ]
  },
  {
   "cell_type": "code",
   "execution_count": 8,
   "id": "a9eecf85-9376-4d65-a388-a2f6bd3ee552",
   "metadata": {},
   "outputs": [
    {
     "data": {
      "text/plain": [
       "<generator object fibon at 0x10836b4c0>"
      ]
     },
     "execution_count": 8,
     "metadata": {},
     "output_type": "execute_result"
    }
   ],
   "source": [
    "fibon(10)"
   ]
  },
  {
   "cell_type": "code",
   "execution_count": 9,
   "id": "97e2866b-cb55-447e-b9c3-0951a10185e6",
   "metadata": {},
   "outputs": [
    {
     "name": "stdout",
     "output_type": "stream",
     "text": [
      "0\n",
      "1\n",
      "1\n",
      "2\n",
      "3\n",
      "5\n",
      "8\n",
      "13\n",
      "21\n",
      "34\n"
     ]
    }
   ],
   "source": [
    "for i in fibon(10):\n",
    "    print(i)"
   ]
  },
  {
   "cell_type": "code",
   "execution_count": 12,
   "id": "6f056d90-c192-464d-96ed-cd93c1d17097",
   "metadata": {},
   "outputs": [],
   "source": [
    "#another way to write the same thing in it\n",
    "def fibo():\n",
    "    a,b=0,1\n",
    "    while True:\n",
    "       yield a\n",
    "       a,b=b,a+b"
   ]
  },
  {
   "cell_type": "code",
   "execution_count": 13,
   "id": "5a9f6695-ca9a-42c9-a695-960756c8f8dd",
   "metadata": {},
   "outputs": [],
   "source": [
    "fib=fibo()"
   ]
  },
  {
   "cell_type": "code",
   "execution_count": 14,
   "id": "4978cffe-f82e-4bd2-b79a-d437be22bc30",
   "metadata": {},
   "outputs": [
    {
     "name": "stdout",
     "output_type": "stream",
     "text": [
      "0\n",
      "1\n",
      "1\n",
      "2\n",
      "3\n",
      "5\n",
      "8\n",
      "13\n",
      "21\n",
      "34\n"
     ]
    }
   ],
   "source": [
    "for i in range(10):\n",
    "    print(next(fib))"
   ]
  },
  {
   "cell_type": "code",
   "execution_count": 15,
   "id": "aef70e63-1661-4910-8ace-41ddfabba22c",
   "metadata": {},
   "outputs": [],
   "source": [
    "#use of next --> next wala data nikalna kaam h next ka\n",
    "k=\"krishna\"\n"
   ]
  },
  {
   "cell_type": "code",
   "execution_count": 25,
   "id": "7d579318-99c4-416b-bcda-1729f3bec38a",
   "metadata": {},
   "outputs": [
    {
     "ename": "TypeError",
     "evalue": "'str' object is not an iterator",
     "output_type": "error",
     "traceback": [
      "\u001b[31m---------------------------------------------------------------------------\u001b[39m",
      "\u001b[31mTypeError\u001b[39m                                 Traceback (most recent call last)",
      "\u001b[36mCell\u001b[39m\u001b[36m \u001b[39m\u001b[32mIn[25]\u001b[39m\u001b[32m, line 1\u001b[39m\n\u001b[32m----> \u001b[39m\u001b[32m1\u001b[39m \u001b[38;5;28;43mnext\u001b[39;49m\u001b[43m(\u001b[49m\u001b[43mk\u001b[49m\u001b[43m)\u001b[49m\n",
      "\u001b[31mTypeError\u001b[39m: 'str' object is not an iterator"
     ]
    }
   ],
   "source": [
    "next(k)"
   ]
  },
  {
   "cell_type": "code",
   "execution_count": 17,
   "id": "a735f24c-acb3-4220-ac47-68281b8d196d",
   "metadata": {},
   "outputs": [],
   "source": [
    "#str object is not a iterator"
   ]
  },
  {
   "cell_type": "code",
   "execution_count": 18,
   "id": "c14b330d-84a5-4472-8cb5-4d31a9c5cc30",
   "metadata": {},
   "outputs": [],
   "source": [
    "k1=iter(k)"
   ]
  },
  {
   "cell_type": "code",
   "execution_count": 19,
   "id": "11ffa60f-2df7-4efe-bc24-598928664f81",
   "metadata": {},
   "outputs": [
    {
     "data": {
      "text/plain": [
       "'k'"
      ]
     },
     "execution_count": 19,
     "metadata": {},
     "output_type": "execute_result"
    }
   ],
   "source": [
    "next(k1)"
   ]
  },
  {
   "cell_type": "code",
   "execution_count": 21,
   "id": "652e49ee-64cd-4c7b-9c94-8a605771b68d",
   "metadata": {},
   "outputs": [
    {
     "data": {
      "text/plain": [
       "'r'"
      ]
     },
     "execution_count": 21,
     "metadata": {},
     "output_type": "execute_result"
    }
   ],
   "source": [
    "next(k1)"
   ]
  },
  {
   "cell_type": "code",
   "execution_count": 22,
   "id": "8a4f8a3f-f0af-454a-82cc-3aee4a7f9b39",
   "metadata": {},
   "outputs": [],
   "source": [
    "#for loop is also doing the same data iter m daal k next next kar rha h"
   ]
  },
  {
   "cell_type": "code",
   "execution_count": 23,
   "id": "ece15499-f1a3-493a-9ca8-f77a5d4c7eaa",
   "metadata": {},
   "outputs": [
    {
     "ename": "TypeError",
     "evalue": "'int' object is not iterable",
     "output_type": "error",
     "traceback": [
      "\u001b[31m---------------------------------------------------------------------------\u001b[39m",
      "\u001b[31mTypeError\u001b[39m                                 Traceback (most recent call last)",
      "\u001b[36mCell\u001b[39m\u001b[36m \u001b[39m\u001b[32mIn[23]\u001b[39m\u001b[32m, line 1\u001b[39m\n\u001b[32m----> \u001b[39m\u001b[32m1\u001b[39m \u001b[38;5;28;43miter\u001b[39;49m\u001b[43m(\u001b[49m\u001b[32;43m45\u001b[39;49m\u001b[43m)\u001b[49m\n",
      "\u001b[31mTypeError\u001b[39m: 'int' object is not iterable"
     ]
    }
   ],
   "source": [
    " iter(45)"
   ]
  },
  {
   "cell_type": "code",
   "execution_count": 24,
   "id": "8cf2ed3f-fc2e-4f86-af89-5d313e586020",
   "metadata": {},
   "outputs": [],
   "source": [
    "#int iterable bhi ni h na hi float,jo iterable h ose hi iterator m convert kar skte h"
   ]
  },
  {
   "cell_type": "code",
   "execution_count": 26,
   "id": "40c15196-f8a8-4473-898c-1ad74451804f",
   "metadata": {},
   "outputs": [],
   "source": [
    " #return ek baar data deta h yield baar baar data nikal deta h"
   ]
  },
  {
   "cell_type": "code",
   "execution_count": 27,
   "id": "b5427b72-6f47-48ab-b128-0cc7c0db9e90",
   "metadata": {},
   "outputs": [],
   "source": [
    "#LAMBDA FUNCTION(or anonamous function) name ni dete function ko"
   ]
  },
  {
   "cell_type": "code",
   "execution_count": 28,
   "id": "edc7740d-b418-4f42-8cd1-eac4ea6efb4b",
   "metadata": {},
   "outputs": [],
   "source": [
    "n,p=2,3\n",
    "def powe(n,p):\n",
    "    return n**p"
   ]
  },
  {
   "cell_type": "code",
   "execution_count": 31,
   "id": "616ecfc2-b760-4181-806b-80a5631adfaa",
   "metadata": {},
   "outputs": [
    {
     "data": {
      "text/plain": [
       "8"
      ]
     },
     "execution_count": 31,
     "metadata": {},
     "output_type": "execute_result"
    }
   ],
   "source": [
    "powe(n,p)"
   ]
  },
  {
   "cell_type": "code",
   "execution_count": 32,
   "id": "9240b9ca-8b6f-48d8-8332-b62ebb99e2ee",
   "metadata": {},
   "outputs": [],
   "source": [
    "a = lambda n,p : n**p"
   ]
  },
  {
   "cell_type": "code",
   "execution_count": 33,
   "id": "348a2ee6-0a07-4017-aeca-900cba477c77",
   "metadata": {},
   "outputs": [
    {
     "data": {
      "text/plain": [
       "<function __main__.<lambda>(n, p)>"
      ]
     },
     "execution_count": 33,
     "metadata": {},
     "output_type": "execute_result"
    }
   ],
   "source": [
    "a"
   ]
  },
  {
   "cell_type": "code",
   "execution_count": 34,
   "id": "9a520863-ecc1-4a67-b5f4-131d4a2b8e10",
   "metadata": {},
   "outputs": [
    {
     "data": {
      "text/plain": [
       "8"
      ]
     },
     "execution_count": 34,
     "metadata": {},
     "output_type": "execute_result"
    }
   ],
   "source": [
    "a(2,3)"
   ]
  },
  {
   "cell_type": "code",
   "execution_count": 35,
   "id": "7c7f1937-984e-41d9-8afc-463b6c4632e8",
   "metadata": {},
   "outputs": [],
   "source": [
    "findin_max=lambda x,y: x if x>y else y"
   ]
  },
  {
   "cell_type": "code",
   "execution_count": 37,
   "id": "6e8f1228-fa46-4482-ab54-9ebbcb2cd997",
   "metadata": {},
   "outputs": [
    {
     "data": {
      "text/plain": [
       "4"
      ]
     },
     "execution_count": 37,
     "metadata": {},
     "output_type": "execute_result"
    }
   ],
   "source": [
    "findin_max(4,3)"
   ]
  },
  {
   "cell_type": "code",
   "execution_count": null,
   "id": "ce973067-5e52-430d-8e42-2158ad766ec8",
   "metadata": {},
   "outputs": [],
   "source": []
  }
 ],
 "metadata": {
  "kernelspec": {
   "display_name": "Python 3 (ipykernel)",
   "language": "python",
   "name": "python3"
  },
  "language_info": {
   "codemirror_mode": {
    "name": "ipython",
    "version": 3
   },
   "file_extension": ".py",
   "mimetype": "text/x-python",
   "name": "python",
   "nbconvert_exporter": "python",
   "pygments_lexer": "ipython3",
   "version": "3.13.3"
  }
 },
 "nbformat": 4,
 "nbformat_minor": 5
}
